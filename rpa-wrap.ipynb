{
 "cells": [
  {
   "cell_type": "code",
   "execution_count": 14,
   "id": "11e0ec4d",
   "metadata": {},
   "outputs": [],
   "source": [
    "from datetime import datetime\n",
    "import time\n"
   ]
  },
  {
   "cell_type": "code",
   "execution_count": 2,
   "id": "b9e82a71",
   "metadata": {},
   "outputs": [
    {
     "name": "stdout",
     "output_type": "stream",
     "text": [
      "1698333666\n"
     ]
    }
   ],
   "source": [
    "timestamp = int(time.time())\n",
    "print(timestamp)"
   ]
  },
  {
   "cell_type": "code",
   "execution_count": 3,
   "id": "d363cc2c",
   "metadata": {},
   "outputs": [
    {
     "data": {
      "text/plain": [
       "datetime.datetime(2023, 10, 27, 0, 21, 7, 493387)"
      ]
     },
     "execution_count": 3,
     "metadata": {},
     "output_type": "execute_result"
    }
   ],
   "source": [
    "datetime.now()"
   ]
  },
  {
   "cell_type": "code",
   "execution_count": 5,
   "id": "3f263791",
   "metadata": {},
   "outputs": [],
   "source": [
    "# OPEN 2.13"
   ]
  },
  {
   "cell_type": "code",
   "execution_count": null,
   "id": "2c6e94a0",
   "metadata": {},
   "outputs": [],
   "source": [
    "# dct = 언제 무엇을 얼마에 얼마나 어떻게"
   ]
  },
  {
   "cell_type": "code",
   "execution_count": 276,
   "id": "cb576ccd",
   "metadata": {},
   "outputs": [],
   "source": [
    "from datetime import datetime\n",
    "import time\n",
    "import requests\n",
    "import numpy as np\n",
    "from config import API_ENDPOINT\n",
    "import requests\n",
    "import pandas as pd\n",
    "\n",
    "class Budget:\n",
    "    def __init__(self, account='test', currency='KRW'):\n",
    "        self.account = account\n",
    "        self.budget = []\n",
    "        self.currency = currency.upper()\n",
    "        self.get_params()\n",
    "        self.get_df()\n",
    "        \n",
    "    def get_params(self):\n",
    "        dct = {\n",
    "            'account_id': self.account_id,\n",
    "            'currency': self.currency,\n",
    "            'total_budget': self.get_total_budget(),\n",
    "            'puts': self.get_puts(),\n",
    "            'pops': self.get_pops(),\n",
    "        }\n",
    "        self.params = dct\n",
    "        print('input params ...')        \n",
    "        print(dct)\n",
    "\n",
    "        return dct\n",
    "    \n",
    "    def set_currency(self, currency):\n",
    "        self.currency = currency\n",
    "        self.get_params()\n",
    "        return self\n",
    "    \n",
    "    def put_budget(self, budget):\n",
    "        timestamp = get_time_now()\n",
    "        date = get_time_now(option='yyyy-mm-dd')\n",
    "        action = 'put'\n",
    "        budget_put = budget\n",
    "        dct = {'date': date, 'action': action, 'budget': budget_put, 'timestamp': timestamp}\n",
    "        self.budget.append(dct)\n",
    "        return self\n",
    "        \n",
    "    def pop_budget(self, budget):\n",
    "        timestamp = get_time_now()\n",
    "        date = get_time_now(option='yyyy-mm-dd')\n",
    "        action = 'pop'\n",
    "        budget_pop = -budget\n",
    "        dct = {'date': date, 'action': action, 'budget': budget_pop, 'timestamp': timestamp}\n",
    "        self.budget.append(dct)\n",
    "        return self\n",
    "\n",
    "    def put_budget_manual(self, date, budget):\n",
    "        date_input = format_date(date)\n",
    "        action = 'put'\n",
    "        timestamp = get_time_now()\n",
    "        budget_put = budget\n",
    "        dct = {'date': date_input, 'action': action, 'budget': budget_put, 'timestamp': timestamp}\n",
    "        self.budget.append(dct)\n",
    "        return self\n",
    "\n",
    "    def pop_budget_manual(self, date, budget):\n",
    "        date_input = format_date(date)        \n",
    "        action = 'pop'\n",
    "        timestamp = get_time_now()\n",
    "        budget_pop = -budget\n",
    "        dct = {'date': date_input, 'action': action, 'budget': budget_pop, 'timestamp': timestamp}\n",
    "        self.budget.append(dct)\n",
    "        return self\n",
    "        \n",
    "    def get_df(self):\n",
    "        df = pd.DataFrame(self.budget)\n",
    "        self.df = df\n",
    "        return df\n",
    "        \n",
    "    def get_total_budget(self):\n",
    "        df = self.get_df()\n",
    "        total_budget = df['budget'].sum()\n",
    "        return total_budget\n",
    "    \n",
    "    def get_puts(self):\n",
    "        df = self.get_df()\n",
    "        lst = df[df['action']=='put']['budget'].tolist()\n",
    "        self.puts = lst\n",
    "        return lst\n",
    "\n",
    "    def get_pops(self):\n",
    "        df = self.get_df()\n",
    "        lst = df[df['action']=='pop']['budget'].tolist()\n",
    "        self.pops = lst\n",
    "        return lst\n",
    "    \n",
    "class Trade:\n",
    "    def __init__(self, ticker, date=None, currency='KRW'):\n",
    "        self.ticker = ticker\n",
    "        self.bucket = []\n",
    "        self.currency = currency.upper()\n",
    "        self.date = date or get_time_now(option='yyyy-mm-dd')\n",
    "        self.get_params()\n",
    "        self.get_df()\n",
    "\n",
    "    def get_params(self):\n",
    "        dct = {\n",
    "            'ticker': self.ticker,\n",
    "            'trading_date': self.date,\n",
    "            'currency': self.currency,\n",
    "#             'bucket': self.bucket\n",
    "        }\n",
    "        self.params = dct\n",
    "        print('input params ...')        \n",
    "        print(dct)\n",
    "\n",
    "        return dct\n",
    "\n",
    "    def set_date(self, date):\n",
    "        date = format_date(date)\n",
    "        self.date = date\n",
    "        self.get_params()\n",
    "        return self\n",
    "\n",
    "    def buy(self, n=1):\n",
    "        date = get_time_now(option='yyyy-mm-dd')\n",
    "        action = 'buy'\n",
    "        buy_price = get_current_price_bbgext(self.ticker)\n",
    "        n = n\n",
    "        timestamp = get_time_now()\n",
    "        dct = {'trading_date': date, 'ticker': self.ticker, 'action': action,'n': n, 'trading_price': buy_price, 'trading_price_total': buy_price*n, 'currency': self.currency, 'timestamp': timestamp }\n",
    "        print('trade execution ...')\n",
    "        print(dct)\n",
    "        self.bucket.append(dct)\n",
    "        return self\n",
    "        \n",
    "    def sell(self, n=1):\n",
    "        date = get_time_now(option='yyyy-mm-dd')\n",
    "        action = 'sell'\n",
    "        sell_price = -get_current_price_bbgext(self.ticker)\n",
    "        n = n\n",
    "        timestamp = get_time_now()\n",
    "        dct = {'trading_date': date, 'ticker': self.ticker, 'action': action, 'n': n,'trading_price': sell_price, 'trading_price_total': sell_price*n, 'currency': self.currency, 'timestamp': timestamp }\n",
    "        print(dct)\n",
    "        self.bucket.append(dct)\n",
    "        return self\n",
    "    \n",
    "    def buy_date(self, n_date, date=None):\n",
    "        date = format_date(date) if date != None else self.date\n",
    "        action = 'buy'\n",
    "        price_date = get_date_price_bbgext(self.ticker, date)\n",
    "        buy_price = price_date\n",
    "        n = n_date\n",
    "        timestamp = get_time_now()\n",
    "        dct = {'trading_date': date, 'ticker': self.ticker, 'action': action,'n': n, 'trading_price': buy_price, 'trading_price_total': buy_price*n, 'currency': self.currency, 'timestamp': timestamp }\n",
    "        print('trade execution ...')\n",
    "        print(dct)\n",
    "        self.bucket.append(dct)\n",
    "        return self\n",
    "    \n",
    "    def sell_date(self, n_date, date=None):\n",
    "        date = format_date(date) if date != None else self.date\n",
    "        action = 'sell'\n",
    "        price_date = get_date_price_bbgext(self.ticker, date)\n",
    "        sell_price = -price_date\n",
    "        n = n_date\n",
    "        timestamp = get_time_now()\n",
    "        dct = {'trading_date': date, 'ticker': self.ticker, 'action': action, 'n': n, 'trading_price': sell_price, 'trading_price_total': sell_price*n, 'currency': self.currency, 'timestamp': timestamp }\n",
    "        print(dct)\n",
    "        self.bucket.append(dct)\n",
    "        return self\n",
    "\n",
    "    def buy_date_bbg(self, bcon, n_date, date=None):\n",
    "        date = format_date(date) if date != None else self.date\n",
    "        action = 'buy'\n",
    "        price_date = get_date_price_bbg(bcon, self.ticker, date)\n",
    "        buy_price = price_date\n",
    "        n = n_date\n",
    "        timestamp = get_time_now()\n",
    "        dct = {'trading_date': date, 'ticker': self.ticker, 'action': action, 'n': n, 'trading_price': buy_price, 'trading_price_total': buy_price*n, 'currency': self.currency, 'timestamp': timestamp }\n",
    "        print('trade execution ...')\n",
    "        print(dct)\n",
    "        self.bucket.append(dct)\n",
    "        return self\n",
    "    \n",
    "    def sell_date_bbg(self, bcon, n_date, date=None):\n",
    "        date = format_date(date) if date != None else self.date\n",
    "        action = 'sell'\n",
    "        price_date = get_date_price_bbg(bcon, self.ticker, date)\n",
    "        sell_price = -price_date\n",
    "        n = n_date\n",
    "        timestamp = get_time_now()\n",
    "        dct = {'trading_date': date, 'ticker': self.ticker, 'action': action, 'n': n, 'trading_price': sell_price, 'trading_price_total': sell_price*n, 'currency': self.currency, 'timestamp': timestamp }\n",
    "        print(dct)\n",
    "        self.bucket.append(dct)\n",
    "        return self\n",
    "    \n",
    "    def buy_manual(self, price_manual, n_manual, date=None):\n",
    "        date = format_date(date) if date != None else self.date\n",
    "        action = 'buy'\n",
    "        buy_price = price_manual\n",
    "        n = n_manual\n",
    "        timestamp = get_time_now()\n",
    "        dct = {'trading_date': date, 'ticker': self.ticker, 'action': action, 'n': n, 'trading_price': buy_price, 'trading_price_total': buy_price*n, 'currency': self.currency, 'timestamp': timestamp }\n",
    "        print('trade execution ...')\n",
    "        print(dct)\n",
    "        self.bucket.append(dct)\n",
    "        return self\n",
    "    \n",
    "    def sell_manual(self, price_manual, n_manual, date=None):\n",
    "        date = format_date(date) if date != None else self.date\n",
    "        action = 'sell'\n",
    "        sell_price = -price_manual\n",
    "        n = n_manual\n",
    "        timestamp = get_time_now()\n",
    "        dct = {'trading_date': date, 'ticker': self.ticker, 'action': action, 'n': n, 'trading_price': sell_price, 'trading_price_total': sell_price*n, 'currency': self.currency, 'timestamp': timestamp }\n",
    "        print(dct)\n",
    "        self.bucket.append(dct)\n",
    "        return self\n",
    "        \n",
    "    def delete_trade(self, index):\n",
    "        bucket = self.bucket\n",
    "        removed_trade = bucket.pop(index)\n",
    "        self.bucket = bucket\n",
    "        return bucket\n",
    "    \n",
    "    def get_df(self):\n",
    "        df = pd.DataFrame(self.bucket)\n",
    "        if not df.empty:\n",
    "            df = df.sort_values(by='trading_date', ascending=True)\n",
    "            df.index.name = 'row_id'\n",
    "        self.df = df\n",
    "        return df\n",
    "    \n",
    "    def get_df_avg(self):\n",
    "        df = self.get_df()\n",
    "        df_gp = df.groupby(['ticker'])[['trading_price_total']].sum()\n",
    "        df_gp = df_gp.reset_index()\n",
    "        df_gp['n_total'] = df['n'].sum()        \n",
    "        df_gp['trading_price_avg'] = round(df_gp['trading_price_total']/df_gp['n_total'],2)\n",
    "        df_gp['currency'] = self.currency\n",
    "        df_gp['current_date'] = get_time_now(option='yyyy-mm-dd')\n",
    "        # df_gp['date'] = df['date'].iloc[-1]\n",
    "        df_gp = df_gp[['current_date', 'ticker', 'n_total', 'trading_price_avg', 'trading_price_total', 'currency']]\n",
    "        return df_gp\n",
    "        \n",
    "    def get_net_price(self):\n",
    "        df = self.get_df()\n",
    "        net_price = df['trading_price_total'].sum()\n",
    "        return net_price\n",
    "\n",
    "class Wrap:\n",
    "    def __init__(self, trades=None, account='test'):\n",
    "        if trades is None:\n",
    "            trades = []\n",
    "        self.trades = trades\n",
    "        self.account = account\n",
    "        self.get_params()\n",
    "\n",
    "    def get_params(self):\n",
    "        trades_display = [(trade.ticker, trade.date) for trade in self.trades]\n",
    "        dct = {\n",
    "            'account': self.account,\n",
    "            'trades': trades_display,\n",
    "        }\n",
    "        self.params = dct\n",
    "        print('input params ...')\n",
    "        print(dct)\n",
    "        return dct\n",
    "\n",
    "    def update_trades(self, *args):\n",
    "        for arg in args:\n",
    "            if isinstance(arg, list):\n",
    "                self.trades.extend(arg)  # 리스트의 모든 요소 추가\n",
    "            elif isinstance(arg, Trade):  # 'Trade' 클래스의 인스턴스인 경우\n",
    "                self.trades.append(arg)\n",
    "            else:\n",
    "                print(f\"Invalid type: {type(arg)}\")\n",
    "        self.get_params()\n",
    "        return self\n",
    "\n",
    "    def delete_trade(self, index):\n",
    "        trades = self.trades\n",
    "        trades = trades.pop(index)\n",
    "        self.trades = trades\n",
    "        return trades\n",
    "    \n",
    "    def reset_trades(self):\n",
    "        self.trades = []\n",
    "        self.get_params()\n",
    "        return self\n",
    "    \n",
    "    def get_df(self):\n",
    "        df = pd.concat([trade.get_df() for trade in self.trades])\n",
    "        df.index.name = 'row_id'\n",
    "        colums_raw = df.columns.tolist()\n",
    "        df['account'] = self.account\n",
    "        df = df[['account'] + colums_raw]\n",
    "        if not df.empty:\n",
    "            df = df.sort_values(by='trading_date', ascending=True)\n",
    "        df = df.reset_index(drop=True)\n",
    "        self.tickers = list(set(df['ticker']))\n",
    "        self.df = df\n",
    "        self.get_params()\n",
    "        return df\n",
    "    \n",
    "    def get_df_current_bbg(self, bcon):\n",
    "        df = self.df\n",
    "        dct = {}\n",
    "        for ticker in self.tickers:\n",
    "            price = get_current_price_bbg(bcon, ticker)\n",
    "            dct[ticker] = price\n",
    "        df['current_date'] = get_time_now(option='yyyy-mm-dd')\n",
    "        df['current_price'] = df['ticker'].map(dct)\n",
    "        df['current_price_total'] = df['current_price'] * df['n']\n",
    "        df['return'] = round((df['current_price'] / df['trading_price'] - 1) * 100, 2)\n",
    "        df = df[['account', 'ticker', 'trading_date', 'current_date', 'action', 'n', 'trading_price',\n",
    "       'trading_price_total', 'current_price', 'current_price_total', 'currency', 'return', 'timestamp']]\n",
    "        return df\n",
    "\n",
    "    def get_df_weight(self):\n",
    "        df = pd.concat([trade.get_df_avg() for trade in self.trades])\n",
    "        nav = df['trading_price_total'].sum()\n",
    "        df['trading_weight'] = df['trading_price_total']/nav\n",
    "        colums_raw = df.columns.tolist()\n",
    "        df['account'] = self.account\n",
    "        df = df[['account'] + colums_raw]\n",
    "        self.df_weight = df\n",
    "        self.get_params()\n",
    "        return df\n",
    "    \n",
    "    def get_df_weight_current_bbg(self, bcon):\n",
    "        df = self.get_df_weight()\n",
    "        dct = {}\n",
    "        for ticker in self.tickers:\n",
    "            price = get_current_price_bbg(bcon, ticker)\n",
    "            dct[ticker] = price\n",
    "        df['current_price'] = df['ticker'].map(dct)\n",
    "        df['current_price_total'] = df['current_price'] * df['n_total']\n",
    "        df['return'] = round((df['current_price'] / df['trading_price_avg'] - 1) * 100, 2)\n",
    "        nav_current = df['current_price_total'].sum()\n",
    "        df['current_weight'] = df['current_price_total']/nav_current\n",
    "        df = df[['account', 'ticker', 'n_total', 'trading_price_avg', 'trading_price_total', 'current_price', 'current_price_total', 'currency', 'return', 'trading_weight', 'current_weight']]\n",
    "        return df\n",
    "\n",
    "    def get_df_date(self):\n",
    "        df = self.get_df_weight()\n",
    "        num_of_stocks = len(df)\n",
    "        df = df.groupby(['account', 'trading_date', 'currency'], as_index=False)['trading_price_total'].sum()\n",
    "        df['num_of_stocks'] = num_of_stocks\n",
    "        df['price_adjust'] = df['trading_price_total']/ df['trading_price_total'].iloc[0] * 1000\n",
    "        df = df[['account', 'trading_date', 'num_of_stocks', 'trading_price_total', 'price_adjust', 'currency']]\n",
    "        self.get_params()\n",
    "        self.df_date = df\n",
    "        \n",
    "        return df\n",
    "\n",
    "    def get_df_date2(self):\n",
    "        df = self.get_df()\n",
    "        df = df.groupby(['trading_date', 'currency'], as_index=False)['trading_price_total'].sum()\n",
    "        df['price_adjust'] = df['trading_price_total']/ df['trading_price_total'].iloc[0] * 1000\n",
    "        df['account'] = self.account\n",
    "        df = df[['account', 'trading_date', 'trading_price_total', 'price_adjust', 'currency']]\n",
    "        self.get_params()\n",
    "        self.df_date = df\n",
    "        \n",
    "        return df\n",
    "\n",
    "def get_time_now(option='timestamp'):\n",
    "    timestamp = int(time.time())\n",
    "    current_date = datetime.now().strftime('%Y-%m-%d')  # yyyy-mm-dd 형식으로 현재 날짜\n",
    "    mapping = {\n",
    "        'timestamp': timestamp,\n",
    "        'yyyy-mm-dd': current_date\n",
    "    }\n",
    "    return mapping[option]\n",
    "\n",
    "def format_date(date):\n",
    "    date = date.replace('-', '')\n",
    "    date = datetime.strptime(date, '%Y%m%d').strftime('%Y-%m-%d')\n",
    "    return date\n",
    "\n",
    "def get_currency(ticker):\n",
    "    exchange_of_ticker = ticker.split(' ')[1]\n",
    "    mapping = {\n",
    "        'KS': 'KRW',\n",
    "        'US': 'USD'\n",
    "    }\n",
    "    currency = mapping.get(exchange_of_ticker, 'KRW')\n",
    "    return currency\n",
    "    \n",
    "def get_current_price_bbgext(ticker):\n",
    "    ticker_input = f\"{ticker} Equity\"\n",
    "    query = {\n",
    "    \"action\": \"bdp\",\n",
    "    \"securities\": [ticker_input],\n",
    "    \"fields\": [\"PX_LAST\"],\n",
    "    }\n",
    "    response = requests.post(API_ENDPOINT, json=query)  \n",
    "    price = response.json()['PX_LAST'][ticker_input]\n",
    "    return price\n",
    "\n",
    "def get_date_price_bbgext(ticker, date):\n",
    "    ticker_input = f\"{ticker} Equity\"\n",
    "    date_input = date.replace('-', '')\n",
    "    query = {\n",
    "    \"action\": \"bdh\",\n",
    "    \"securities\": [ticker_input],\n",
    "    \"fields\": [\"PX_LAST\"],\n",
    "    \"start_date\": date_input,\n",
    "    \"end_date\": date_input,\n",
    "    \"period\": \"DAILY\"\n",
    "    }\n",
    "    response = requests.post(API_ENDPOINT, json=query)  \n",
    "    price = response.json()['PX_LAST'][ticker_input]\n",
    "\n",
    "    return price\n",
    "\n",
    "def get_current_price_bbg(bcon, ticker):\n",
    "    # prerequisite: turn on bcon on bbg\n",
    "    ticker_input = f\"{ticker} Equity\"\n",
    "    df = bcon.ref(ticker_input, ['PX_LAST'])\n",
    "    price = df['value'][0]\n",
    "    return price\n",
    "\n",
    "def get_date_price_bbg(bcon, ticker, date):\n",
    "    # prerequisite: turn on bcon on bbg\n",
    "    ticker_input = f\"{ticker} Equity\"\n",
    "    date_input = date.replace('-', '')\n",
    "    df = bcon.bdh(ticker_input, ['PX_LAST'], date_input, date_input)\n",
    "    price = df.iloc[-1][0]\n",
    "    return price\n"
   ]
  },
  {
   "cell_type": "code",
   "execution_count": 272,
   "id": "7e80f894",
   "metadata": {},
   "outputs": [],
   "source": []
  },
  {
   "cell_type": "code",
   "execution_count": 274,
   "id": "1a8a97e7",
   "metadata": {},
   "outputs": [],
   "source": [
    "bcon = pdblp.BCon(debug=False, port=8194, timeout=5000)"
   ]
  },
  {
   "cell_type": "code",
   "execution_count": 275,
   "id": "6c79bfd2",
   "metadata": {},
   "outputs": [
    {
     "name": "stdout",
     "output_type": "stream",
     "text": [
      "\n",
      "16NOV2023_09:04:22.443 96998:6245806080 WARN apicm_apiconnector.cpp:389 ApiConnector::socketConnectorCallback localhost: Failed to connect to 127.0.0.1:8194, status=1, error 8 connect event failed \n",
      "\n",
      "16NOV2023_09:04:22.443 96998:6245806080 WARN blpapi_platformtransporttcp.cpp:137 blpapi.session.{2}.transporttcp<0><localhost:8194> 127.0.0.1, session pool state=Failed \n",
      "\n",
      "16NOV2023_09:04:25.451 96998:6245806080 WARN apicm_apiconnector.cpp:389 ApiConnector::socketConnectorCallback localhost: Failed to connect to 127.0.0.1:8194, status=1, error 8 connect event failed \n",
      "\n",
      "16NOV2023_09:04:25.451 96998:6245806080 WARN blpapi_platformtransporttcp.cpp:137 blpapi.session.{2}.transporttcp<0><localhost:8194> 127.0.0.1, session pool state=Failed \n"
     ]
    },
    {
     "name": "stderr",
     "output_type": "stream",
     "text": [
      "pdblp.pdblp:WARNING:Message Received:\n",
      "SessionStartupFailure = {\n",
      "    reason = {\n",
      "        source = \"ApiConnector\"\n",
      "        category = \"IO_ERROR\"\n",
      "        errorCode = 8\n",
      "        description = \"connect event failed\"\n",
      "    }\n",
      "}\n",
      "\n"
     ]
    },
    {
     "name": "stdout",
     "output_type": "stream",
     "text": [
      "\n",
      "16NOV2023_09:04:28.456 96998:6245806080 WARN apicm_apiconnector.cpp:389 ApiConnector::socketConnectorCallback localhost: Failed to connect to 127.0.0.1:8194, status=1, error 8 connect event failed \n",
      "\n",
      "16NOV2023_09:04:28.457 96998:6245806080 WARN blpapi_platformtransporttcp.cpp:137 blpapi.session.{2}.transporttcp<0><localhost:8194> 127.0.0.1, session pool state=Failed \n",
      "\n",
      "16NOV2023_09:04:28.457 96998:6245806080 WARN blpapi_platformcontroller.cpp:617 blpapi.session.{2}.platformcontroller Platform failed 3 consecutive connect attempts, stopped trying to reconnect. { PlatformId=0 }  \n",
      "\n",
      "16NOV2023_09:04:28.457 96998:6248050688 ERROR blpapi_sessionimpl.cpp:2550 blpapi.session.{2} Failed to start session. { ErrorInfo=[ source = \"ApiConnector\" code = 8 category = \"IO_ERROR\" errorMessage = \"connect event failed\" subcategory = NULL ] RequestId=NULL }  \n"
     ]
    },
    {
     "ename": "ConnectionError",
     "evalue": "Could not start blpapi.Session",
     "output_type": "error",
     "traceback": [
      "\u001b[0;31m---------------------------------------------------------------------------\u001b[0m",
      "\u001b[0;31mConnectionError\u001b[0m                           Traceback (most recent call last)",
      "\u001b[1;32m/Users/juneyoungpark/dev/rpa-wrap/rpa-wrap.ipynb Cell 9\u001b[0m line \u001b[0;36m1\n\u001b[0;32m----> <a href='vscode-notebook-cell:/Users/juneyoungpark/dev/rpa-wrap/rpa-wrap.ipynb#Y116sZmlsZQ%3D%3D?line=0'>1</a>\u001b[0m bcon\u001b[39m.\u001b[39mstart()\n",
      "File \u001b[0;32m~/anaconda3/lib/python3.11/site-packages/pdblp/pdblp.py:147\u001b[0m, in \u001b[0;36mBCon.start\u001b[0;34m(self)\u001b[0m\n\u001b[1;32m    145\u001b[0m         \u001b[39mfor\u001b[39;00m msg \u001b[39min\u001b[39;00m ev:\n\u001b[1;32m    146\u001b[0m             logger\u001b[39m.\u001b[39mwarning(\u001b[39m'\u001b[39m\u001b[39mMessage Received:\u001b[39m\u001b[39m\\n\u001b[39;00m\u001b[39m{}\u001b[39;00m\u001b[39m'\u001b[39m\u001b[39m.\u001b[39mformat(msg))\n\u001b[0;32m--> 147\u001b[0m         \u001b[39mraise\u001b[39;00m \u001b[39mConnectionError\u001b[39;00m(\u001b[39m'\u001b[39m\u001b[39mCould not start blpapi.Session\u001b[39m\u001b[39m'\u001b[39m)\n\u001b[1;32m    148\u001b[0m \u001b[39mself\u001b[39m\u001b[39m.\u001b[39m_init_services()\n\u001b[1;32m    149\u001b[0m \u001b[39mreturn\u001b[39;00m \u001b[39mself\u001b[39m\n",
      "\u001b[0;31mConnectionError\u001b[0m: Could not start blpapi.Session"
     ]
    }
   ],
   "source": [
    "bcon.start()"
   ]
  },
  {
   "cell_type": "code",
   "execution_count": 273,
   "id": "7535bae1",
   "metadata": {},
   "outputs": [
    {
     "name": "stdout",
     "output_type": "stream",
     "text": [
      "\n",
      "16NOV2023_09:03:14.992 96998:6243561472 WARN apicm_apiconnector.cpp:389 ApiConnector::socketConnectorCallback localhost: Failed to connect to 127.0.0.1:8194, status=1, error 8 connect event failed \n",
      "\n",
      "16NOV2023_09:03:14.992 96998:6243561472 WARN blpapi_platformtransporttcp.cpp:137 blpapi.session.{1}.transporttcp<0><localhost:8194> 127.0.0.1, session pool state=Failed \n",
      "\n",
      "16NOV2023_09:03:17.995 96998:6243561472 WARN apicm_apiconnector.cpp:389 ApiConnector::socketConnectorCallback localhost: Failed to connect to 127.0.0.1:8194, status=1, error 8 connect event failed \n",
      "\n",
      "16NOV2023_09:03:17.995 96998:6243561472 WARN blpapi_platformtransporttcp.cpp:137 blpapi.session.{1}.transporttcp<0><localhost:8194> 127.0.0.1, session pool state=Failed \n"
     ]
    },
    {
     "name": "stderr",
     "output_type": "stream",
     "text": [
      "pdblp.pdblp:WARNING:Message Received:\n",
      "SessionStartupFailure = {\n",
      "    reason = {\n",
      "        source = \"ApiConnector\"\n",
      "        category = \"IO_ERROR\"\n",
      "        errorCode = 8\n",
      "        description = \"connect event failed\"\n",
      "    }\n",
      "}\n",
      "\n"
     ]
    },
    {
     "name": "stdout",
     "output_type": "stream",
     "text": [
      "\n",
      "16NOV2023_09:03:20.997 96998:6243561472 WARN apicm_apiconnector.cpp:389 ApiConnector::socketConnectorCallback localhost: Failed to connect to 127.0.0.1:8194, status=1, error 8 connect event failed \n",
      "\n",
      "16NOV2023_09:03:20.997 96998:6243561472 WARN blpapi_platformtransporttcp.cpp:137 blpapi.session.{1}.transporttcp<0><localhost:8194> 127.0.0.1, session pool state=Failed \n",
      "\n",
      "16NOV2023_09:03:20.997 96998:6243561472 WARN blpapi_platformcontroller.cpp:617 blpapi.session.{1}.platformcontroller Platform failed 3 consecutive connect attempts, stopped trying to reconnect. { PlatformId=0 }  \n",
      "\n",
      "16NOV2023_09:03:20.999 96998:6245806080 ERROR blpapi_sessionimpl.cpp:2550 blpapi.session.{1} Failed to start session. { ErrorInfo=[ source = \"ApiConnector\" code = 8 category = \"IO_ERROR\" errorMessage = \"connect event failed\" subcategory = NULL ] RequestId=NULL }  \n"
     ]
    },
    {
     "ename": "ConnectionError",
     "evalue": "Could not start blpapi.Session",
     "output_type": "error",
     "traceback": [
      "\u001b[0;31m---------------------------------------------------------------------------\u001b[0m",
      "\u001b[0;31mConnectionError\u001b[0m                           Traceback (most recent call last)",
      "\u001b[1;32m/Users/juneyoungpark/dev/rpa-wrap/rpa-wrap.ipynb Cell 8\u001b[0m line \u001b[0;36m1\n\u001b[0;32m----> <a href='vscode-notebook-cell:/Users/juneyoungpark/dev/rpa-wrap/rpa-wrap.ipynb#Y114sZmlsZQ%3D%3D?line=0'>1</a>\u001b[0m BconServer()\u001b[39m.\u001b[39mstart()\n",
      "\u001b[1;32m/Users/juneyoungpark/dev/rpa-wrap/rpa-wrap.ipynb Cell 8\u001b[0m line \u001b[0;36m1\n\u001b[1;32m      <a href='vscode-notebook-cell:/Users/juneyoungpark/dev/rpa-wrap/rpa-wrap.ipynb#Y114sZmlsZQ%3D%3D?line=8'>9</a>\u001b[0m \u001b[39mdef\u001b[39;00m \u001b[39mstart\u001b[39m(\u001b[39mself\u001b[39m):\n\u001b[0;32m---> <a href='vscode-notebook-cell:/Users/juneyoungpark/dev/rpa-wrap/rpa-wrap.ipynb#Y114sZmlsZQ%3D%3D?line=9'>10</a>\u001b[0m     \u001b[39mself\u001b[39m\u001b[39m.\u001b[39mbcon\u001b[39m.\u001b[39mstart()\n",
      "File \u001b[0;32m~/anaconda3/lib/python3.11/site-packages/pdblp/pdblp.py:147\u001b[0m, in \u001b[0;36mBCon.start\u001b[0;34m(self)\u001b[0m\n\u001b[1;32m    145\u001b[0m         \u001b[39mfor\u001b[39;00m msg \u001b[39min\u001b[39;00m ev:\n\u001b[1;32m    146\u001b[0m             logger\u001b[39m.\u001b[39mwarning(\u001b[39m'\u001b[39m\u001b[39mMessage Received:\u001b[39m\u001b[39m\\n\u001b[39;00m\u001b[39m{}\u001b[39;00m\u001b[39m'\u001b[39m\u001b[39m.\u001b[39mformat(msg))\n\u001b[0;32m--> 147\u001b[0m         \u001b[39mraise\u001b[39;00m \u001b[39mConnectionError\u001b[39;00m(\u001b[39m'\u001b[39m\u001b[39mCould not start blpapi.Session\u001b[39m\u001b[39m'\u001b[39m)\n\u001b[1;32m    148\u001b[0m \u001b[39mself\u001b[39m\u001b[39m.\u001b[39m_init_services()\n\u001b[1;32m    149\u001b[0m \u001b[39mreturn\u001b[39;00m \u001b[39mself\u001b[39m\n",
      "\u001b[0;31mConnectionError\u001b[0m: Could not start blpapi.Session"
     ]
    }
   ],
   "source": [
    "BconServer().start()"
   ]
  },
  {
   "cell_type": "code",
   "execution_count": 267,
   "id": "3a4fa359",
   "metadata": {},
   "outputs": [
    {
     "ename": "JSONDecodeError",
     "evalue": "Expecting value: line 1 column 1 (char 0)",
     "output_type": "error",
     "traceback": [
      "\u001b[0;31m---------------------------------------------------------------------------\u001b[0m",
      "\u001b[0;31mJSONDecodeError\u001b[0m                           Traceback (most recent call last)",
      "File \u001b[0;32m~/anaconda3/lib/python3.11/site-packages/requests/models.py:971\u001b[0m, in \u001b[0;36mResponse.json\u001b[0;34m(self, **kwargs)\u001b[0m\n\u001b[1;32m    970\u001b[0m \u001b[39mtry\u001b[39;00m:\n\u001b[0;32m--> 971\u001b[0m     \u001b[39mreturn\u001b[39;00m complexjson\u001b[39m.\u001b[39mloads(\u001b[39mself\u001b[39m\u001b[39m.\u001b[39mtext, \u001b[39m*\u001b[39m\u001b[39m*\u001b[39mkwargs)\n\u001b[1;32m    972\u001b[0m \u001b[39mexcept\u001b[39;00m JSONDecodeError \u001b[39mas\u001b[39;00m e:\n\u001b[1;32m    973\u001b[0m     \u001b[39m# Catch JSON-related errors and raise as requests.JSONDecodeError\u001b[39;00m\n\u001b[1;32m    974\u001b[0m     \u001b[39m# This aliases json.JSONDecodeError and simplejson.JSONDecodeError\u001b[39;00m\n",
      "File \u001b[0;32m~/anaconda3/lib/python3.11/json/__init__.py:346\u001b[0m, in \u001b[0;36mloads\u001b[0;34m(s, cls, object_hook, parse_float, parse_int, parse_constant, object_pairs_hook, **kw)\u001b[0m\n\u001b[1;32m    343\u001b[0m \u001b[39mif\u001b[39;00m (\u001b[39mcls\u001b[39m \u001b[39mis\u001b[39;00m \u001b[39mNone\u001b[39;00m \u001b[39mand\u001b[39;00m object_hook \u001b[39mis\u001b[39;00m \u001b[39mNone\u001b[39;00m \u001b[39mand\u001b[39;00m\n\u001b[1;32m    344\u001b[0m         parse_int \u001b[39mis\u001b[39;00m \u001b[39mNone\u001b[39;00m \u001b[39mand\u001b[39;00m parse_float \u001b[39mis\u001b[39;00m \u001b[39mNone\u001b[39;00m \u001b[39mand\u001b[39;00m\n\u001b[1;32m    345\u001b[0m         parse_constant \u001b[39mis\u001b[39;00m \u001b[39mNone\u001b[39;00m \u001b[39mand\u001b[39;00m object_pairs_hook \u001b[39mis\u001b[39;00m \u001b[39mNone\u001b[39;00m \u001b[39mand\u001b[39;00m \u001b[39mnot\u001b[39;00m kw):\n\u001b[0;32m--> 346\u001b[0m     \u001b[39mreturn\u001b[39;00m _default_decoder\u001b[39m.\u001b[39mdecode(s)\n\u001b[1;32m    347\u001b[0m \u001b[39mif\u001b[39;00m \u001b[39mcls\u001b[39m \u001b[39mis\u001b[39;00m \u001b[39mNone\u001b[39;00m:\n",
      "File \u001b[0;32m~/anaconda3/lib/python3.11/json/decoder.py:337\u001b[0m, in \u001b[0;36mJSONDecoder.decode\u001b[0;34m(self, s, _w)\u001b[0m\n\u001b[1;32m    333\u001b[0m \u001b[39m\u001b[39m\u001b[39m\"\"\"Return the Python representation of ``s`` (a ``str`` instance\u001b[39;00m\n\u001b[1;32m    334\u001b[0m \u001b[39mcontaining a JSON document).\u001b[39;00m\n\u001b[1;32m    335\u001b[0m \n\u001b[1;32m    336\u001b[0m \u001b[39m\"\"\"\u001b[39;00m\n\u001b[0;32m--> 337\u001b[0m obj, end \u001b[39m=\u001b[39m \u001b[39mself\u001b[39m\u001b[39m.\u001b[39mraw_decode(s, idx\u001b[39m=\u001b[39m_w(s, \u001b[39m0\u001b[39m)\u001b[39m.\u001b[39mend())\n\u001b[1;32m    338\u001b[0m end \u001b[39m=\u001b[39m _w(s, end)\u001b[39m.\u001b[39mend()\n",
      "File \u001b[0;32m~/anaconda3/lib/python3.11/json/decoder.py:355\u001b[0m, in \u001b[0;36mJSONDecoder.raw_decode\u001b[0;34m(self, s, idx)\u001b[0m\n\u001b[1;32m    354\u001b[0m \u001b[39mexcept\u001b[39;00m \u001b[39mStopIteration\u001b[39;00m \u001b[39mas\u001b[39;00m err:\n\u001b[0;32m--> 355\u001b[0m     \u001b[39mraise\u001b[39;00m JSONDecodeError(\u001b[39m\"\u001b[39m\u001b[39mExpecting value\u001b[39m\u001b[39m\"\u001b[39m, s, err\u001b[39m.\u001b[39mvalue) \u001b[39mfrom\u001b[39;00m \u001b[39mNone\u001b[39;00m\n\u001b[1;32m    356\u001b[0m \u001b[39mreturn\u001b[39;00m obj, end\n",
      "\u001b[0;31mJSONDecodeError\u001b[0m: Expecting value: line 1 column 1 (char 0)",
      "\nDuring handling of the above exception, another exception occurred:\n",
      "\u001b[0;31mJSONDecodeError\u001b[0m                           Traceback (most recent call last)",
      "\u001b[1;32m/Users/juneyoungpark/dev/rpa-wrap/rpa-wrap.ipynb Cell 8\u001b[0m line \u001b[0;36m1\n\u001b[0;32m----> <a href='vscode-notebook-cell:/Users/juneyoungpark/dev/rpa-wrap/rpa-wrap.ipynb#Y112sZmlsZQ%3D%3D?line=0'>1</a>\u001b[0m get_date_price(\u001b[39m'\u001b[39m\u001b[39m259960 KS\u001b[39m\u001b[39m'\u001b[39m, \u001b[39m'\u001b[39m\u001b[39m20231101\u001b[39m\u001b[39m'\u001b[39m)\n",
      "\u001b[1;32m/Users/juneyoungpark/dev/rpa-wrap/rpa-wrap.ipynb Cell 8\u001b[0m line \u001b[0;36m2\n\u001b[1;32m    <a href='vscode-notebook-cell:/Users/juneyoungpark/dev/rpa-wrap/rpa-wrap.ipynb#Y112sZmlsZQ%3D%3D?line=261'>262</a>\u001b[0m query \u001b[39m=\u001b[39m {\n\u001b[1;32m    <a href='vscode-notebook-cell:/Users/juneyoungpark/dev/rpa-wrap/rpa-wrap.ipynb#Y112sZmlsZQ%3D%3D?line=262'>263</a>\u001b[0m \u001b[39m\"\u001b[39m\u001b[39maction\u001b[39m\u001b[39m\"\u001b[39m: \u001b[39m\"\u001b[39m\u001b[39mbdh\u001b[39m\u001b[39m\"\u001b[39m,\n\u001b[1;32m    <a href='vscode-notebook-cell:/Users/juneyoungpark/dev/rpa-wrap/rpa-wrap.ipynb#Y112sZmlsZQ%3D%3D?line=263'>264</a>\u001b[0m \u001b[39m\"\u001b[39m\u001b[39msecurities\u001b[39m\u001b[39m\"\u001b[39m: [ticker_input],\n\u001b[0;32m   (...)\u001b[0m\n\u001b[1;32m    <a href='vscode-notebook-cell:/Users/juneyoungpark/dev/rpa-wrap/rpa-wrap.ipynb#Y112sZmlsZQ%3D%3D?line=267'>268</a>\u001b[0m \u001b[39m\"\u001b[39m\u001b[39mperiod\u001b[39m\u001b[39m\"\u001b[39m: \u001b[39m\"\u001b[39m\u001b[39mDAILY\u001b[39m\u001b[39m\"\u001b[39m\n\u001b[1;32m    <a href='vscode-notebook-cell:/Users/juneyoungpark/dev/rpa-wrap/rpa-wrap.ipynb#Y112sZmlsZQ%3D%3D?line=268'>269</a>\u001b[0m }\n\u001b[1;32m    <a href='vscode-notebook-cell:/Users/juneyoungpark/dev/rpa-wrap/rpa-wrap.ipynb#Y112sZmlsZQ%3D%3D?line=269'>270</a>\u001b[0m response \u001b[39m=\u001b[39m requests\u001b[39m.\u001b[39mpost(API_ENDPOINT, json\u001b[39m=\u001b[39mquery)  \n\u001b[0;32m--> <a href='vscode-notebook-cell:/Users/juneyoungpark/dev/rpa-wrap/rpa-wrap.ipynb#Y112sZmlsZQ%3D%3D?line=270'>271</a>\u001b[0m price \u001b[39m=\u001b[39m response\u001b[39m.\u001b[39mjson()[\u001b[39m'\u001b[39m\u001b[39mPX_LAST\u001b[39m\u001b[39m'\u001b[39m][ticker_input]\n\u001b[1;32m    <a href='vscode-notebook-cell:/Users/juneyoungpark/dev/rpa-wrap/rpa-wrap.ipynb#Y112sZmlsZQ%3D%3D?line=271'>272</a>\u001b[0m \u001b[39mreturn\u001b[39;00m price\n",
      "File \u001b[0;32m~/anaconda3/lib/python3.11/site-packages/requests/models.py:975\u001b[0m, in \u001b[0;36mResponse.json\u001b[0;34m(self, **kwargs)\u001b[0m\n\u001b[1;32m    971\u001b[0m     \u001b[39mreturn\u001b[39;00m complexjson\u001b[39m.\u001b[39mloads(\u001b[39mself\u001b[39m\u001b[39m.\u001b[39mtext, \u001b[39m*\u001b[39m\u001b[39m*\u001b[39mkwargs)\n\u001b[1;32m    972\u001b[0m \u001b[39mexcept\u001b[39;00m JSONDecodeError \u001b[39mas\u001b[39;00m e:\n\u001b[1;32m    973\u001b[0m     \u001b[39m# Catch JSON-related errors and raise as requests.JSONDecodeError\u001b[39;00m\n\u001b[1;32m    974\u001b[0m     \u001b[39m# This aliases json.JSONDecodeError and simplejson.JSONDecodeError\u001b[39;00m\n\u001b[0;32m--> 975\u001b[0m     \u001b[39mraise\u001b[39;00m RequestsJSONDecodeError(e\u001b[39m.\u001b[39mmsg, e\u001b[39m.\u001b[39mdoc, e\u001b[39m.\u001b[39mpos)\n",
      "\u001b[0;31mJSONDecodeError\u001b[0m: Expecting value: line 1 column 1 (char 0)"
     ]
    }
   ],
   "source": [
    "get_date_price('259960 KS', '20231101')"
   ]
  },
  {
   "cell_type": "markdown",
   "id": "89ae2d04",
   "metadata": {},
   "source": [
    "# Trade test"
   ]
  },
  {
   "cell_type": "code",
   "execution_count": 256,
   "id": "dda25934",
   "metadata": {},
   "outputs": [],
   "source": [
    "krafton = Trade('259960 KS')\n",
    "sehold = Trade('003030 KS')\n"
   ]
  },
  {
   "cell_type": "code",
   "execution_count": 257,
   "id": "7a0c4b4d",
   "metadata": {},
   "outputs": [
    {
     "ename": "JSONDecodeError",
     "evalue": "Expecting value: line 1 column 1 (char 0)",
     "output_type": "error",
     "traceback": [
      "\u001b[0;31m---------------------------------------------------------------------------\u001b[0m",
      "\u001b[0;31mJSONDecodeError\u001b[0m                           Traceback (most recent call last)",
      "File \u001b[0;32m~/anaconda3/lib/python3.11/site-packages/requests/models.py:971\u001b[0m, in \u001b[0;36mResponse.json\u001b[0;34m(self, **kwargs)\u001b[0m\n\u001b[1;32m    970\u001b[0m \u001b[39mtry\u001b[39;00m:\n\u001b[0;32m--> 971\u001b[0m     \u001b[39mreturn\u001b[39;00m complexjson\u001b[39m.\u001b[39mloads(\u001b[39mself\u001b[39m\u001b[39m.\u001b[39mtext, \u001b[39m*\u001b[39m\u001b[39m*\u001b[39mkwargs)\n\u001b[1;32m    972\u001b[0m \u001b[39mexcept\u001b[39;00m JSONDecodeError \u001b[39mas\u001b[39;00m e:\n\u001b[1;32m    973\u001b[0m     \u001b[39m# Catch JSON-related errors and raise as requests.JSONDecodeError\u001b[39;00m\n\u001b[1;32m    974\u001b[0m     \u001b[39m# This aliases json.JSONDecodeError and simplejson.JSONDecodeError\u001b[39;00m\n",
      "File \u001b[0;32m~/anaconda3/lib/python3.11/json/__init__.py:346\u001b[0m, in \u001b[0;36mloads\u001b[0;34m(s, cls, object_hook, parse_float, parse_int, parse_constant, object_pairs_hook, **kw)\u001b[0m\n\u001b[1;32m    343\u001b[0m \u001b[39mif\u001b[39;00m (\u001b[39mcls\u001b[39m \u001b[39mis\u001b[39;00m \u001b[39mNone\u001b[39;00m \u001b[39mand\u001b[39;00m object_hook \u001b[39mis\u001b[39;00m \u001b[39mNone\u001b[39;00m \u001b[39mand\u001b[39;00m\n\u001b[1;32m    344\u001b[0m         parse_int \u001b[39mis\u001b[39;00m \u001b[39mNone\u001b[39;00m \u001b[39mand\u001b[39;00m parse_float \u001b[39mis\u001b[39;00m \u001b[39mNone\u001b[39;00m \u001b[39mand\u001b[39;00m\n\u001b[1;32m    345\u001b[0m         parse_constant \u001b[39mis\u001b[39;00m \u001b[39mNone\u001b[39;00m \u001b[39mand\u001b[39;00m object_pairs_hook \u001b[39mis\u001b[39;00m \u001b[39mNone\u001b[39;00m \u001b[39mand\u001b[39;00m \u001b[39mnot\u001b[39;00m kw):\n\u001b[0;32m--> 346\u001b[0m     \u001b[39mreturn\u001b[39;00m _default_decoder\u001b[39m.\u001b[39mdecode(s)\n\u001b[1;32m    347\u001b[0m \u001b[39mif\u001b[39;00m \u001b[39mcls\u001b[39m \u001b[39mis\u001b[39;00m \u001b[39mNone\u001b[39;00m:\n",
      "File \u001b[0;32m~/anaconda3/lib/python3.11/json/decoder.py:337\u001b[0m, in \u001b[0;36mJSONDecoder.decode\u001b[0;34m(self, s, _w)\u001b[0m\n\u001b[1;32m    333\u001b[0m \u001b[39m\u001b[39m\u001b[39m\"\"\"Return the Python representation of ``s`` (a ``str`` instance\u001b[39;00m\n\u001b[1;32m    334\u001b[0m \u001b[39mcontaining a JSON document).\u001b[39;00m\n\u001b[1;32m    335\u001b[0m \n\u001b[1;32m    336\u001b[0m \u001b[39m\"\"\"\u001b[39;00m\n\u001b[0;32m--> 337\u001b[0m obj, end \u001b[39m=\u001b[39m \u001b[39mself\u001b[39m\u001b[39m.\u001b[39mraw_decode(s, idx\u001b[39m=\u001b[39m_w(s, \u001b[39m0\u001b[39m)\u001b[39m.\u001b[39mend())\n\u001b[1;32m    338\u001b[0m end \u001b[39m=\u001b[39m _w(s, end)\u001b[39m.\u001b[39mend()\n",
      "File \u001b[0;32m~/anaconda3/lib/python3.11/json/decoder.py:355\u001b[0m, in \u001b[0;36mJSONDecoder.raw_decode\u001b[0;34m(self, s, idx)\u001b[0m\n\u001b[1;32m    354\u001b[0m \u001b[39mexcept\u001b[39;00m \u001b[39mStopIteration\u001b[39;00m \u001b[39mas\u001b[39;00m err:\n\u001b[0;32m--> 355\u001b[0m     \u001b[39mraise\u001b[39;00m JSONDecodeError(\u001b[39m\"\u001b[39m\u001b[39mExpecting value\u001b[39m\u001b[39m\"\u001b[39m, s, err\u001b[39m.\u001b[39mvalue) \u001b[39mfrom\u001b[39;00m \u001b[39mNone\u001b[39;00m\n\u001b[1;32m    356\u001b[0m \u001b[39mreturn\u001b[39;00m obj, end\n",
      "\u001b[0;31mJSONDecodeError\u001b[0m: Expecting value: line 1 column 1 (char 0)",
      "\nDuring handling of the above exception, another exception occurred:\n",
      "\u001b[0;31mJSONDecodeError\u001b[0m                           Traceback (most recent call last)",
      "\u001b[1;32m/Users/juneyoungpark/dev/rpa-wrap/rpa-wrap.ipynb Cell 9\u001b[0m line \u001b[0;36m1\n\u001b[0;32m----> <a href='vscode-notebook-cell:/Users/juneyoungpark/dev/rpa-wrap/rpa-wrap.ipynb#Y106sZmlsZQ%3D%3D?line=0'>1</a>\u001b[0m krafton\u001b[39m.\u001b[39mset_date(\u001b[39m'\u001b[39m\u001b[39m2023-11-01\u001b[39m\u001b[39m'\u001b[39m)\u001b[39m.\u001b[39mbuy_date(\u001b[39m100\u001b[39m)\n",
      "\u001b[1;32m/Users/juneyoungpark/dev/rpa-wrap/rpa-wrap.ipynb Cell 9\u001b[0m line \u001b[0;36m1\n\u001b[1;32m    <a href='vscode-notebook-cell:/Users/juneyoungpark/dev/rpa-wrap/rpa-wrap.ipynb#Y106sZmlsZQ%3D%3D?line=129'>130</a>\u001b[0m date \u001b[39m=\u001b[39m date \u001b[39mor\u001b[39;00m \u001b[39mself\u001b[39m\u001b[39m.\u001b[39mdate\n\u001b[1;32m    <a href='vscode-notebook-cell:/Users/juneyoungpark/dev/rpa-wrap/rpa-wrap.ipynb#Y106sZmlsZQ%3D%3D?line=130'>131</a>\u001b[0m action \u001b[39m=\u001b[39m \u001b[39m'\u001b[39m\u001b[39mbuy\u001b[39m\u001b[39m'\u001b[39m\n\u001b[0;32m--> <a href='vscode-notebook-cell:/Users/juneyoungpark/dev/rpa-wrap/rpa-wrap.ipynb#Y106sZmlsZQ%3D%3D?line=131'>132</a>\u001b[0m price_date \u001b[39m=\u001b[39m get_date_price(\u001b[39mself\u001b[39m\u001b[39m.\u001b[39mticker, date\u001b[39m.\u001b[39mreplace(\u001b[39m'\u001b[39m\u001b[39m-\u001b[39m\u001b[39m'\u001b[39m, \u001b[39m'\u001b[39m\u001b[39m'\u001b[39m))\n\u001b[1;32m    <a href='vscode-notebook-cell:/Users/juneyoungpark/dev/rpa-wrap/rpa-wrap.ipynb#Y106sZmlsZQ%3D%3D?line=132'>133</a>\u001b[0m buy_price \u001b[39m=\u001b[39m price_date\n\u001b[1;32m    <a href='vscode-notebook-cell:/Users/juneyoungpark/dev/rpa-wrap/rpa-wrap.ipynb#Y106sZmlsZQ%3D%3D?line=133'>134</a>\u001b[0m n \u001b[39m=\u001b[39m n_date\n",
      "\u001b[1;32m/Users/juneyoungpark/dev/rpa-wrap/rpa-wrap.ipynb Cell 9\u001b[0m line \u001b[0;36m2\n\u001b[1;32m    <a href='vscode-notebook-cell:/Users/juneyoungpark/dev/rpa-wrap/rpa-wrap.ipynb#Y106sZmlsZQ%3D%3D?line=261'>262</a>\u001b[0m query \u001b[39m=\u001b[39m {\n\u001b[1;32m    <a href='vscode-notebook-cell:/Users/juneyoungpark/dev/rpa-wrap/rpa-wrap.ipynb#Y106sZmlsZQ%3D%3D?line=262'>263</a>\u001b[0m \u001b[39m\"\u001b[39m\u001b[39maction\u001b[39m\u001b[39m\"\u001b[39m: \u001b[39m\"\u001b[39m\u001b[39mbdh\u001b[39m\u001b[39m\"\u001b[39m,\n\u001b[1;32m    <a href='vscode-notebook-cell:/Users/juneyoungpark/dev/rpa-wrap/rpa-wrap.ipynb#Y106sZmlsZQ%3D%3D?line=263'>264</a>\u001b[0m \u001b[39m\"\u001b[39m\u001b[39msecurities\u001b[39m\u001b[39m\"\u001b[39m: [ticker_input],\n\u001b[0;32m   (...)\u001b[0m\n\u001b[1;32m    <a href='vscode-notebook-cell:/Users/juneyoungpark/dev/rpa-wrap/rpa-wrap.ipynb#Y106sZmlsZQ%3D%3D?line=267'>268</a>\u001b[0m \u001b[39m\"\u001b[39m\u001b[39mperiod\u001b[39m\u001b[39m\"\u001b[39m: \u001b[39m\"\u001b[39m\u001b[39mDAILY\u001b[39m\u001b[39m\"\u001b[39m\n\u001b[1;32m    <a href='vscode-notebook-cell:/Users/juneyoungpark/dev/rpa-wrap/rpa-wrap.ipynb#Y106sZmlsZQ%3D%3D?line=268'>269</a>\u001b[0m }\n\u001b[1;32m    <a href='vscode-notebook-cell:/Users/juneyoungpark/dev/rpa-wrap/rpa-wrap.ipynb#Y106sZmlsZQ%3D%3D?line=269'>270</a>\u001b[0m response \u001b[39m=\u001b[39m requests\u001b[39m.\u001b[39mpost(API_ENDPOINT, json\u001b[39m=\u001b[39mquery)  \n\u001b[0;32m--> <a href='vscode-notebook-cell:/Users/juneyoungpark/dev/rpa-wrap/rpa-wrap.ipynb#Y106sZmlsZQ%3D%3D?line=270'>271</a>\u001b[0m price \u001b[39m=\u001b[39m response\u001b[39m.\u001b[39mjson()[\u001b[39m'\u001b[39m\u001b[39mPX_LAST\u001b[39m\u001b[39m'\u001b[39m][ticker_input]\n\u001b[1;32m    <a href='vscode-notebook-cell:/Users/juneyoungpark/dev/rpa-wrap/rpa-wrap.ipynb#Y106sZmlsZQ%3D%3D?line=271'>272</a>\u001b[0m \u001b[39mreturn\u001b[39;00m price\n",
      "File \u001b[0;32m~/anaconda3/lib/python3.11/site-packages/requests/models.py:975\u001b[0m, in \u001b[0;36mResponse.json\u001b[0;34m(self, **kwargs)\u001b[0m\n\u001b[1;32m    971\u001b[0m     \u001b[39mreturn\u001b[39;00m complexjson\u001b[39m.\u001b[39mloads(\u001b[39mself\u001b[39m\u001b[39m.\u001b[39mtext, \u001b[39m*\u001b[39m\u001b[39m*\u001b[39mkwargs)\n\u001b[1;32m    972\u001b[0m \u001b[39mexcept\u001b[39;00m JSONDecodeError \u001b[39mas\u001b[39;00m e:\n\u001b[1;32m    973\u001b[0m     \u001b[39m# Catch JSON-related errors and raise as requests.JSONDecodeError\u001b[39;00m\n\u001b[1;32m    974\u001b[0m     \u001b[39m# This aliases json.JSONDecodeError and simplejson.JSONDecodeError\u001b[39;00m\n\u001b[0;32m--> 975\u001b[0m     \u001b[39mraise\u001b[39;00m RequestsJSONDecodeError(e\u001b[39m.\u001b[39mmsg, e\u001b[39m.\u001b[39mdoc, e\u001b[39m.\u001b[39mpos)\n",
      "\u001b[0;31mJSONDecodeError\u001b[0m: Expecting value: line 1 column 1 (char 0)"
     ]
    }
   ],
   "source": [
    "krafton.set_date('2023-11-01').buy_date(100)"
   ]
  },
  {
   "cell_type": "code",
   "execution_count": 235,
   "id": "143e57e2",
   "metadata": {},
   "outputs": [],
   "source": [
    "opendoor = Trade(ticker='OPEN UW', currency='usd')"
   ]
  },
  {
   "cell_type": "code",
   "execution_count": 186,
   "id": "f5eabed1",
   "metadata": {},
   "outputs": [
    {
     "data": {
      "text/plain": [
       "<__main__.Trade at 0x15fa05d90>"
      ]
     },
     "execution_count": 186,
     "metadata": {},
     "output_type": "execute_result"
    }
   ],
   "source": [
    "opendoor.buy(n=100)"
   ]
  },
  {
   "cell_type": "code",
   "execution_count": 187,
   "id": "9c5be3a7",
   "metadata": {},
   "outputs": [
    {
     "data": {
      "text/plain": [
       "<__main__.Trade at 0x15fa05d90>"
      ]
     },
     "execution_count": 187,
     "metadata": {},
     "output_type": "execute_result"
    }
   ],
   "source": [
    "opendoor.buy(n=200)\n"
   ]
  },
  {
   "cell_type": "code",
   "execution_count": 188,
   "id": "62f770cc",
   "metadata": {},
   "outputs": [
    {
     "data": {
      "text/plain": [
       "<__main__.Trade at 0x15fa05d90>"
      ]
     },
     "execution_count": 188,
     "metadata": {},
     "output_type": "execute_result"
    }
   ],
   "source": [
    "opendoor.sell(n=50)"
   ]
  },
  {
   "cell_type": "code",
   "execution_count": 189,
   "id": "96b3cfae",
   "metadata": {},
   "outputs": [
    {
     "data": {
      "text/plain": [
       "<__main__.Trade at 0x15fa05d90>"
      ]
     },
     "execution_count": 189,
     "metadata": {},
     "output_type": "execute_result"
    }
   ],
   "source": [
    "opendoor.set_date('2023-11-03').buy_manual(price_manual=1.90, n_manual=100)"
   ]
  },
  {
   "cell_type": "code",
   "execution_count": 190,
   "id": "6b87c022",
   "metadata": {},
   "outputs": [
    {
     "data": {
      "text/html": [
       "<div>\n",
       "<style scoped>\n",
       "    .dataframe tbody tr th:only-of-type {\n",
       "        vertical-align: middle;\n",
       "    }\n",
       "\n",
       "    .dataframe tbody tr th {\n",
       "        vertical-align: top;\n",
       "    }\n",
       "\n",
       "    .dataframe thead th {\n",
       "        text-align: right;\n",
       "    }\n",
       "</style>\n",
       "<table border=\"1\" class=\"dataframe\">\n",
       "  <thead>\n",
       "    <tr style=\"text-align: right;\">\n",
       "      <th></th>\n",
       "      <th>date</th>\n",
       "      <th>ticker</th>\n",
       "      <th>action</th>\n",
       "      <th>price</th>\n",
       "      <th>n</th>\n",
       "      <th>price_total</th>\n",
       "      <th>currency</th>\n",
       "      <th>timestamp</th>\n",
       "    </tr>\n",
       "    <tr>\n",
       "      <th>row_id</th>\n",
       "      <th></th>\n",
       "      <th></th>\n",
       "      <th></th>\n",
       "      <th></th>\n",
       "      <th></th>\n",
       "      <th></th>\n",
       "      <th></th>\n",
       "      <th></th>\n",
       "    </tr>\n",
       "  </thead>\n",
       "  <tbody>\n",
       "    <tr>\n",
       "      <th>0</th>\n",
       "      <td>2023-11-15</td>\n",
       "      <td>OPEN UW</td>\n",
       "      <td>buy</td>\n",
       "      <td>2.29</td>\n",
       "      <td>100</td>\n",
       "      <td>229.0</td>\n",
       "      <td>usd</td>\n",
       "      <td>1700033399</td>\n",
       "    </tr>\n",
       "    <tr>\n",
       "      <th>1</th>\n",
       "      <td>2023-11-15</td>\n",
       "      <td>OPEN UW</td>\n",
       "      <td>buy</td>\n",
       "      <td>2.29</td>\n",
       "      <td>200</td>\n",
       "      <td>458.0</td>\n",
       "      <td>usd</td>\n",
       "      <td>1700033400</td>\n",
       "    </tr>\n",
       "    <tr>\n",
       "      <th>2</th>\n",
       "      <td>2023-11-15</td>\n",
       "      <td>OPEN UW</td>\n",
       "      <td>sell</td>\n",
       "      <td>-2.29</td>\n",
       "      <td>50</td>\n",
       "      <td>-114.5</td>\n",
       "      <td>usd</td>\n",
       "      <td>1700033401</td>\n",
       "    </tr>\n",
       "    <tr>\n",
       "      <th>3</th>\n",
       "      <td>2023-11-03</td>\n",
       "      <td>OPEN UW</td>\n",
       "      <td>buy</td>\n",
       "      <td>1.90</td>\n",
       "      <td>100</td>\n",
       "      <td>190.0</td>\n",
       "      <td>usd</td>\n",
       "      <td>1700033401</td>\n",
       "    </tr>\n",
       "  </tbody>\n",
       "</table>\n",
       "</div>"
      ],
      "text/plain": [
       "              date   ticker action  price    n  price_total currency  \\\n",
       "row_id                                                                 \n",
       "0       2023-11-15  OPEN UW    buy   2.29  100        229.0      usd   \n",
       "1       2023-11-15  OPEN UW    buy   2.29  200        458.0      usd   \n",
       "2       2023-11-15  OPEN UW   sell  -2.29   50       -114.5      usd   \n",
       "3       2023-11-03  OPEN UW    buy   1.90  100        190.0      usd   \n",
       "\n",
       "         timestamp  \n",
       "row_id              \n",
       "0       1700033399  \n",
       "1       1700033400  \n",
       "2       1700033401  \n",
       "3       1700033401  "
      ]
     },
     "execution_count": 190,
     "metadata": {},
     "output_type": "execute_result"
    }
   ],
   "source": [
    "df = opendoor.get_df()\n",
    "df"
   ]
  },
  {
   "cell_type": "code",
   "execution_count": 191,
   "id": "75579bde",
   "metadata": {},
   "outputs": [
    {
     "data": {
      "text/plain": [
       "762.5"
      ]
     },
     "execution_count": 191,
     "metadata": {},
     "output_type": "execute_result"
    }
   ],
   "source": [
    "opendoor.get_net_price()"
   ]
  },
  {
   "cell_type": "code",
   "execution_count": 192,
   "id": "dd258a25",
   "metadata": {},
   "outputs": [],
   "source": [
    "budget = Budget()"
   ]
  },
  {
   "cell_type": "code",
   "execution_count": 193,
   "id": "c30f7d4f",
   "metadata": {},
   "outputs": [
    {
     "data": {
      "text/plain": [
       "<__main__.Budget at 0x160938110>"
      ]
     },
     "execution_count": 193,
     "metadata": {},
     "output_type": "execute_result"
    }
   ],
   "source": [
    "budget.put_budget(1000000).put_budget(2000000).pop_budget(500000).put_budget(1000000)"
   ]
  },
  {
   "cell_type": "code",
   "execution_count": 194,
   "id": "f38ee70e",
   "metadata": {},
   "outputs": [
    {
     "data": {
      "text/plain": [
       "[{'date': '2023-11-15',\n",
       "  'action': 'put',\n",
       "  'budget': 1000000,\n",
       "  'timestamp': 1700033401},\n",
       " {'date': '2023-11-15',\n",
       "  'action': 'put',\n",
       "  'budget': 2000000,\n",
       "  'timestamp': 1700033401},\n",
       " {'date': '2023-11-15',\n",
       "  'action': 'pop',\n",
       "  'budget': -500000,\n",
       "  'timestamp': 1700033401},\n",
       " {'date': '2023-11-15',\n",
       "  'action': 'put',\n",
       "  'budget': 1000000,\n",
       "  'timestamp': 1700033401}]"
      ]
     },
     "execution_count": 194,
     "metadata": {},
     "output_type": "execute_result"
    }
   ],
   "source": [
    "budget.budget"
   ]
  },
  {
   "cell_type": "code",
   "execution_count": 195,
   "id": "430157bf",
   "metadata": {},
   "outputs": [
    {
     "data": {
      "text/html": [
       "<div>\n",
       "<style scoped>\n",
       "    .dataframe tbody tr th:only-of-type {\n",
       "        vertical-align: middle;\n",
       "    }\n",
       "\n",
       "    .dataframe tbody tr th {\n",
       "        vertical-align: top;\n",
       "    }\n",
       "\n",
       "    .dataframe thead th {\n",
       "        text-align: right;\n",
       "    }\n",
       "</style>\n",
       "<table border=\"1\" class=\"dataframe\">\n",
       "  <thead>\n",
       "    <tr style=\"text-align: right;\">\n",
       "      <th></th>\n",
       "      <th>date</th>\n",
       "      <th>action</th>\n",
       "      <th>budget</th>\n",
       "      <th>timestamp</th>\n",
       "    </tr>\n",
       "  </thead>\n",
       "  <tbody>\n",
       "    <tr>\n",
       "      <th>0</th>\n",
       "      <td>2023-11-15</td>\n",
       "      <td>put</td>\n",
       "      <td>1000000</td>\n",
       "      <td>1700033401</td>\n",
       "    </tr>\n",
       "    <tr>\n",
       "      <th>1</th>\n",
       "      <td>2023-11-15</td>\n",
       "      <td>put</td>\n",
       "      <td>2000000</td>\n",
       "      <td>1700033401</td>\n",
       "    </tr>\n",
       "    <tr>\n",
       "      <th>2</th>\n",
       "      <td>2023-11-15</td>\n",
       "      <td>pop</td>\n",
       "      <td>-500000</td>\n",
       "      <td>1700033401</td>\n",
       "    </tr>\n",
       "    <tr>\n",
       "      <th>3</th>\n",
       "      <td>2023-11-15</td>\n",
       "      <td>put</td>\n",
       "      <td>1000000</td>\n",
       "      <td>1700033401</td>\n",
       "    </tr>\n",
       "  </tbody>\n",
       "</table>\n",
       "</div>"
      ],
      "text/plain": [
       "         date action   budget   timestamp\n",
       "0  2023-11-15    put  1000000  1700033401\n",
       "1  2023-11-15    put  2000000  1700033401\n",
       "2  2023-11-15    pop  -500000  1700033401\n",
       "3  2023-11-15    put  1000000  1700033401"
      ]
     },
     "execution_count": 195,
     "metadata": {},
     "output_type": "execute_result"
    }
   ],
   "source": [
    "budget.get_df()"
   ]
  },
  {
   "cell_type": "code",
   "execution_count": 196,
   "id": "276973fa",
   "metadata": {},
   "outputs": [
    {
     "ename": "AttributeError",
     "evalue": "'Budget' object has no attribute 'account_id'",
     "output_type": "error",
     "traceback": [
      "\u001b[0;31m---------------------------------------------------------------------------\u001b[0m",
      "\u001b[0;31mAttributeError\u001b[0m                            Traceback (most recent call last)",
      "\u001b[1;32m/Users/juneyoungpark/dev/rpa-wrap/rpa-wrap.ipynb Cell 18\u001b[0m line \u001b[0;36m1\n\u001b[0;32m----> <a href='vscode-notebook-cell:/Users/juneyoungpark/dev/rpa-wrap/rpa-wrap.ipynb#X24sZmlsZQ%3D%3D?line=0'>1</a>\u001b[0m budget\u001b[39m.\u001b[39mget_info()\n",
      "\u001b[1;32m/Users/juneyoungpark/dev/rpa-wrap/rpa-wrap.ipynb Cell 18\u001b[0m line \u001b[0;36m7\n\u001b[1;32m     <a href='vscode-notebook-cell:/Users/juneyoungpark/dev/rpa-wrap/rpa-wrap.ipynb#X24sZmlsZQ%3D%3D?line=76'>77</a>\u001b[0m \u001b[39mdef\u001b[39;00m \u001b[39mget_info\u001b[39m(\u001b[39mself\u001b[39m):\n\u001b[1;32m     <a href='vscode-notebook-cell:/Users/juneyoungpark/dev/rpa-wrap/rpa-wrap.ipynb#X24sZmlsZQ%3D%3D?line=77'>78</a>\u001b[0m     dct \u001b[39m=\u001b[39m {\n\u001b[0;32m---> <a href='vscode-notebook-cell:/Users/juneyoungpark/dev/rpa-wrap/rpa-wrap.ipynb#X24sZmlsZQ%3D%3D?line=78'>79</a>\u001b[0m         \u001b[39m'\u001b[39m\u001b[39maccount_id\u001b[39m\u001b[39m'\u001b[39m: \u001b[39mself\u001b[39m\u001b[39m.\u001b[39maccount_id,\n\u001b[1;32m     <a href='vscode-notebook-cell:/Users/juneyoungpark/dev/rpa-wrap/rpa-wrap.ipynb#X24sZmlsZQ%3D%3D?line=79'>80</a>\u001b[0m         \u001b[39m'\u001b[39m\u001b[39mcurrency\u001b[39m\u001b[39m'\u001b[39m: \u001b[39mself\u001b[39m\u001b[39m.\u001b[39mcurrency,\n\u001b[1;32m     <a href='vscode-notebook-cell:/Users/juneyoungpark/dev/rpa-wrap/rpa-wrap.ipynb#X24sZmlsZQ%3D%3D?line=80'>81</a>\u001b[0m         \u001b[39m'\u001b[39m\u001b[39mtotal_budget\u001b[39m\u001b[39m'\u001b[39m: \u001b[39mself\u001b[39m\u001b[39m.\u001b[39mget_total_budget(),\n\u001b[1;32m     <a href='vscode-notebook-cell:/Users/juneyoungpark/dev/rpa-wrap/rpa-wrap.ipynb#X24sZmlsZQ%3D%3D?line=81'>82</a>\u001b[0m         \u001b[39m'\u001b[39m\u001b[39mputs\u001b[39m\u001b[39m'\u001b[39m: \u001b[39mself\u001b[39m\u001b[39m.\u001b[39mget_puts(),\n\u001b[1;32m     <a href='vscode-notebook-cell:/Users/juneyoungpark/dev/rpa-wrap/rpa-wrap.ipynb#X24sZmlsZQ%3D%3D?line=82'>83</a>\u001b[0m         \u001b[39m'\u001b[39m\u001b[39mpops\u001b[39m\u001b[39m'\u001b[39m: \u001b[39mself\u001b[39m\u001b[39m.\u001b[39mget_pops(),\n\u001b[1;32m     <a href='vscode-notebook-cell:/Users/juneyoungpark/dev/rpa-wrap/rpa-wrap.ipynb#X24sZmlsZQ%3D%3D?line=83'>84</a>\u001b[0m     }\n\u001b[1;32m     <a href='vscode-notebook-cell:/Users/juneyoungpark/dev/rpa-wrap/rpa-wrap.ipynb#X24sZmlsZQ%3D%3D?line=84'>85</a>\u001b[0m     \u001b[39mself\u001b[39m\u001b[39m.\u001b[39minfo \u001b[39m=\u001b[39m dct\n\u001b[1;32m     <a href='vscode-notebook-cell:/Users/juneyoungpark/dev/rpa-wrap/rpa-wrap.ipynb#X24sZmlsZQ%3D%3D?line=85'>86</a>\u001b[0m     \u001b[39mreturn\u001b[39;00m dct\n",
      "\u001b[0;31mAttributeError\u001b[0m: 'Budget' object has no attribute 'account_id'"
     ]
    }
   ],
   "source": [
    "budget.get_info()"
   ]
  },
  {
   "cell_type": "code",
   "execution_count": null,
   "id": "b6940ffe",
   "metadata": {},
   "outputs": [],
   "source": [
    "t = Trade('OEPN')"
   ]
  },
  {
   "cell_type": "code",
   "execution_count": null,
   "id": "3041766b",
   "metadata": {},
   "outputs": [],
   "source": [
    "t.buy()"
   ]
  },
  {
   "cell_type": "code",
   "execution_count": 236,
   "id": "066ea89e",
   "metadata": {},
   "outputs": [],
   "source": [
    "query = {\n",
    "    \"action\": \"bdh\",\n",
    "    \"securities\": \"005930 KS Equity\",\n",
    "    \"fields\": [\"PX_LAST\"],\n",
    "    \"start_date\": \"20231114\",\n",
    "    \"end_date\": \"20231114\",\n",
    "    \"period\": \"DAILY\"\n",
    "}\n",
    "response = requests.post(API_ENDPOINT, json=query)"
   ]
  },
  {
   "cell_type": "code",
   "execution_count": 237,
   "id": "60b64147",
   "metadata": {},
   "outputs": [
    {
     "data": {
      "text/plain": [
       "{'PX_LAST': {'1699920000000': 70800.0}}"
      ]
     },
     "execution_count": 237,
     "metadata": {},
     "output_type": "execute_result"
    }
   ],
   "source": [
    "response.json()"
   ]
  },
  {
   "cell_type": "code",
   "execution_count": null,
   "id": "ba4f8d9d",
   "metadata": {},
   "outputs": [],
   "source": [
    "data = {\n",
    "    \"action\": \"bdp\",\n",
    "    \"securities\": [f\"OPEN US Equity\"],\n",
    "    \"fields\": [\"LAST_PRICE\"],\n",
    "    }\n",
    "response = requests.post(API_ENDPOINT, json=data)  "
   ]
  },
  {
   "cell_type": "code",
   "execution_count": null,
   "id": "5cd66766",
   "metadata": {},
   "outputs": [
    {
     "data": {
      "text/plain": [
       "{'LAST_PRICE': {'OPEN US Equity': 2.29}}"
      ]
     },
     "execution_count": 4,
     "metadata": {},
     "output_type": "execute_result"
    }
   ],
   "source": [
    "response.json()"
   ]
  },
  {
   "cell_type": "code",
   "execution_count": 197,
   "id": "eabcbdda",
   "metadata": {},
   "outputs": [
    {
     "data": {
      "text/plain": [
       "1700033401"
      ]
     },
     "execution_count": 197,
     "metadata": {},
     "output_type": "execute_result"
    }
   ],
   "source": [
    "get_time_now()"
   ]
  },
  {
   "cell_type": "code",
   "execution_count": 198,
   "id": "3cf5548f",
   "metadata": {},
   "outputs": [],
   "source": [
    "ss = Trade('005930 KS').buy(10)"
   ]
  },
  {
   "cell_type": "code",
   "execution_count": 199,
   "id": "a1dcea17",
   "metadata": {},
   "outputs": [],
   "source": [
    "hy = Trade('000660 KS').buy(10)"
   ]
  },
  {
   "cell_type": "code",
   "execution_count": 200,
   "id": "45b0a930",
   "metadata": {},
   "outputs": [
    {
     "data": {
      "text/html": [
       "<div>\n",
       "<style scoped>\n",
       "    .dataframe tbody tr th:only-of-type {\n",
       "        vertical-align: middle;\n",
       "    }\n",
       "\n",
       "    .dataframe tbody tr th {\n",
       "        vertical-align: top;\n",
       "    }\n",
       "\n",
       "    .dataframe thead th {\n",
       "        text-align: right;\n",
       "    }\n",
       "</style>\n",
       "<table border=\"1\" class=\"dataframe\">\n",
       "  <thead>\n",
       "    <tr style=\"text-align: right;\">\n",
       "      <th></th>\n",
       "      <th>date</th>\n",
       "      <th>ticker</th>\n",
       "      <th>action</th>\n",
       "      <th>price</th>\n",
       "      <th>n</th>\n",
       "      <th>price_total</th>\n",
       "      <th>currency</th>\n",
       "      <th>timestamp</th>\n",
       "    </tr>\n",
       "    <tr>\n",
       "      <th>row_id</th>\n",
       "      <th></th>\n",
       "      <th></th>\n",
       "      <th></th>\n",
       "      <th></th>\n",
       "      <th></th>\n",
       "      <th></th>\n",
       "      <th></th>\n",
       "      <th></th>\n",
       "    </tr>\n",
       "  </thead>\n",
       "  <tbody>\n",
       "    <tr>\n",
       "      <th>0</th>\n",
       "      <td>2023-11-15</td>\n",
       "      <td>005930 KS</td>\n",
       "      <td>buy</td>\n",
       "      <td>72200.0</td>\n",
       "      <td>10</td>\n",
       "      <td>722000.0</td>\n",
       "      <td>krw</td>\n",
       "      <td>1700033403</td>\n",
       "    </tr>\n",
       "  </tbody>\n",
       "</table>\n",
       "</div>"
      ],
      "text/plain": [
       "              date     ticker action    price   n  price_total currency  \\\n",
       "row_id                                                                    \n",
       "0       2023-11-15  005930 KS    buy  72200.0  10     722000.0      krw   \n",
       "\n",
       "         timestamp  \n",
       "row_id              \n",
       "0       1700033403  "
      ]
     },
     "execution_count": 200,
     "metadata": {},
     "output_type": "execute_result"
    }
   ],
   "source": [
    "ss.get_df()"
   ]
  },
  {
   "cell_type": "code",
   "execution_count": 201,
   "id": "7a235d16",
   "metadata": {},
   "outputs": [
    {
     "data": {
      "text/html": [
       "<div>\n",
       "<style scoped>\n",
       "    .dataframe tbody tr th:only-of-type {\n",
       "        vertical-align: middle;\n",
       "    }\n",
       "\n",
       "    .dataframe tbody tr th {\n",
       "        vertical-align: top;\n",
       "    }\n",
       "\n",
       "    .dataframe thead th {\n",
       "        text-align: right;\n",
       "    }\n",
       "</style>\n",
       "<table border=\"1\" class=\"dataframe\">\n",
       "  <thead>\n",
       "    <tr style=\"text-align: right;\">\n",
       "      <th></th>\n",
       "      <th>date</th>\n",
       "      <th>ticker</th>\n",
       "      <th>action</th>\n",
       "      <th>price</th>\n",
       "      <th>n</th>\n",
       "      <th>price_total</th>\n",
       "      <th>currency</th>\n",
       "      <th>timestamp</th>\n",
       "    </tr>\n",
       "    <tr>\n",
       "      <th>row_id</th>\n",
       "      <th></th>\n",
       "      <th></th>\n",
       "      <th></th>\n",
       "      <th></th>\n",
       "      <th></th>\n",
       "      <th></th>\n",
       "      <th></th>\n",
       "      <th></th>\n",
       "    </tr>\n",
       "  </thead>\n",
       "  <tbody>\n",
       "    <tr>\n",
       "      <th>0</th>\n",
       "      <td>2023-11-15</td>\n",
       "      <td>000660 KS</td>\n",
       "      <td>buy</td>\n",
       "      <td>134100.0</td>\n",
       "      <td>10</td>\n",
       "      <td>1341000.0</td>\n",
       "      <td>krw</td>\n",
       "      <td>1700033404</td>\n",
       "    </tr>\n",
       "  </tbody>\n",
       "</table>\n",
       "</div>"
      ],
      "text/plain": [
       "              date     ticker action     price   n  price_total currency  \\\n",
       "row_id                                                                     \n",
       "0       2023-11-15  000660 KS    buy  134100.0  10    1341000.0      krw   \n",
       "\n",
       "         timestamp  \n",
       "row_id              \n",
       "0       1700033404  "
      ]
     },
     "execution_count": 201,
     "metadata": {},
     "output_type": "execute_result"
    }
   ],
   "source": [
    "hy.get_df()"
   ]
  },
  {
   "cell_type": "code",
   "execution_count": 202,
   "id": "3d869b57",
   "metadata": {},
   "outputs": [
    {
     "data": {
      "text/plain": [
       "<__main__.Trade at 0x161eeb310>"
      ]
     },
     "execution_count": 202,
     "metadata": {},
     "output_type": "execute_result"
    }
   ],
   "source": [
    "ss.buy(5)\n",
    "hy.buy(5)"
   ]
  },
  {
   "cell_type": "code",
   "execution_count": 203,
   "id": "8e02ca39",
   "metadata": {},
   "outputs": [
    {
     "data": {
      "text/html": [
       "<div>\n",
       "<style scoped>\n",
       "    .dataframe tbody tr th:only-of-type {\n",
       "        vertical-align: middle;\n",
       "    }\n",
       "\n",
       "    .dataframe tbody tr th {\n",
       "        vertical-align: top;\n",
       "    }\n",
       "\n",
       "    .dataframe thead th {\n",
       "        text-align: right;\n",
       "    }\n",
       "</style>\n",
       "<table border=\"1\" class=\"dataframe\">\n",
       "  <thead>\n",
       "    <tr style=\"text-align: right;\">\n",
       "      <th></th>\n",
       "      <th>date</th>\n",
       "      <th>ticker</th>\n",
       "      <th>action</th>\n",
       "      <th>price</th>\n",
       "      <th>n</th>\n",
       "      <th>price_total</th>\n",
       "      <th>currency</th>\n",
       "      <th>timestamp</th>\n",
       "    </tr>\n",
       "    <tr>\n",
       "      <th>row_id</th>\n",
       "      <th></th>\n",
       "      <th></th>\n",
       "      <th></th>\n",
       "      <th></th>\n",
       "      <th></th>\n",
       "      <th></th>\n",
       "      <th></th>\n",
       "      <th></th>\n",
       "    </tr>\n",
       "  </thead>\n",
       "  <tbody>\n",
       "    <tr>\n",
       "      <th>0</th>\n",
       "      <td>2023-11-15</td>\n",
       "      <td>005930 KS</td>\n",
       "      <td>buy</td>\n",
       "      <td>72200.0</td>\n",
       "      <td>10</td>\n",
       "      <td>722000.0</td>\n",
       "      <td>krw</td>\n",
       "      <td>1700033403</td>\n",
       "    </tr>\n",
       "    <tr>\n",
       "      <th>1</th>\n",
       "      <td>2023-11-15</td>\n",
       "      <td>005930 KS</td>\n",
       "      <td>buy</td>\n",
       "      <td>72200.0</td>\n",
       "      <td>5</td>\n",
       "      <td>361000.0</td>\n",
       "      <td>krw</td>\n",
       "      <td>1700033405</td>\n",
       "    </tr>\n",
       "  </tbody>\n",
       "</table>\n",
       "</div>"
      ],
      "text/plain": [
       "              date     ticker action    price   n  price_total currency  \\\n",
       "row_id                                                                    \n",
       "0       2023-11-15  005930 KS    buy  72200.0  10     722000.0      krw   \n",
       "1       2023-11-15  005930 KS    buy  72200.0   5     361000.0      krw   \n",
       "\n",
       "         timestamp  \n",
       "row_id              \n",
       "0       1700033403  \n",
       "1       1700033405  "
      ]
     },
     "execution_count": 203,
     "metadata": {},
     "output_type": "execute_result"
    }
   ],
   "source": [
    "ss.get_df()"
   ]
  },
  {
   "cell_type": "code",
   "execution_count": 204,
   "id": "852b44ac",
   "metadata": {},
   "outputs": [
    {
     "data": {
      "text/html": [
       "<div>\n",
       "<style scoped>\n",
       "    .dataframe tbody tr th:only-of-type {\n",
       "        vertical-align: middle;\n",
       "    }\n",
       "\n",
       "    .dataframe tbody tr th {\n",
       "        vertical-align: top;\n",
       "    }\n",
       "\n",
       "    .dataframe thead th {\n",
       "        text-align: right;\n",
       "    }\n",
       "</style>\n",
       "<table border=\"1\" class=\"dataframe\">\n",
       "  <thead>\n",
       "    <tr style=\"text-align: right;\">\n",
       "      <th></th>\n",
       "      <th>date</th>\n",
       "      <th>ticker</th>\n",
       "      <th>action</th>\n",
       "      <th>price</th>\n",
       "      <th>n</th>\n",
       "      <th>price_total</th>\n",
       "      <th>currency</th>\n",
       "      <th>timestamp</th>\n",
       "    </tr>\n",
       "    <tr>\n",
       "      <th>row_id</th>\n",
       "      <th></th>\n",
       "      <th></th>\n",
       "      <th></th>\n",
       "      <th></th>\n",
       "      <th></th>\n",
       "      <th></th>\n",
       "      <th></th>\n",
       "      <th></th>\n",
       "    </tr>\n",
       "  </thead>\n",
       "  <tbody>\n",
       "    <tr>\n",
       "      <th>0</th>\n",
       "      <td>2023-11-15</td>\n",
       "      <td>000660 KS</td>\n",
       "      <td>buy</td>\n",
       "      <td>134100.0</td>\n",
       "      <td>10</td>\n",
       "      <td>1341000.0</td>\n",
       "      <td>krw</td>\n",
       "      <td>1700033404</td>\n",
       "    </tr>\n",
       "    <tr>\n",
       "      <th>1</th>\n",
       "      <td>2023-11-15</td>\n",
       "      <td>000660 KS</td>\n",
       "      <td>buy</td>\n",
       "      <td>134100.0</td>\n",
       "      <td>5</td>\n",
       "      <td>670500.0</td>\n",
       "      <td>krw</td>\n",
       "      <td>1700033406</td>\n",
       "    </tr>\n",
       "  </tbody>\n",
       "</table>\n",
       "</div>"
      ],
      "text/plain": [
       "              date     ticker action     price   n  price_total currency  \\\n",
       "row_id                                                                     \n",
       "0       2023-11-15  000660 KS    buy  134100.0  10    1341000.0      krw   \n",
       "1       2023-11-15  000660 KS    buy  134100.0   5     670500.0      krw   \n",
       "\n",
       "         timestamp  \n",
       "row_id              \n",
       "0       1700033404  \n",
       "1       1700033406  "
      ]
     },
     "execution_count": 204,
     "metadata": {},
     "output_type": "execute_result"
    }
   ],
   "source": [
    "hy.get_df()"
   ]
  },
  {
   "cell_type": "code",
   "execution_count": 205,
   "id": "dbe3dcdd",
   "metadata": {},
   "outputs": [],
   "source": [
    "df1 = ss.df\n",
    "df2 = hy.df"
   ]
  },
  {
   "cell_type": "code",
   "execution_count": 206,
   "id": "c6eb1f10",
   "metadata": {},
   "outputs": [
    {
     "data": {
      "text/html": [
       "<div>\n",
       "<style scoped>\n",
       "    .dataframe tbody tr th:only-of-type {\n",
       "        vertical-align: middle;\n",
       "    }\n",
       "\n",
       "    .dataframe tbody tr th {\n",
       "        vertical-align: top;\n",
       "    }\n",
       "\n",
       "    .dataframe thead th {\n",
       "        text-align: right;\n",
       "    }\n",
       "</style>\n",
       "<table border=\"1\" class=\"dataframe\">\n",
       "  <thead>\n",
       "    <tr style=\"text-align: right;\">\n",
       "      <th></th>\n",
       "      <th>date</th>\n",
       "      <th>ticker</th>\n",
       "      <th>action</th>\n",
       "      <th>price</th>\n",
       "      <th>n</th>\n",
       "      <th>price_total</th>\n",
       "      <th>currency</th>\n",
       "      <th>timestamp</th>\n",
       "    </tr>\n",
       "    <tr>\n",
       "      <th>row_id</th>\n",
       "      <th></th>\n",
       "      <th></th>\n",
       "      <th></th>\n",
       "      <th></th>\n",
       "      <th></th>\n",
       "      <th></th>\n",
       "      <th></th>\n",
       "      <th></th>\n",
       "    </tr>\n",
       "  </thead>\n",
       "  <tbody>\n",
       "    <tr>\n",
       "      <th>0</th>\n",
       "      <td>2023-11-15</td>\n",
       "      <td>005930 KS</td>\n",
       "      <td>buy</td>\n",
       "      <td>72200.0</td>\n",
       "      <td>10</td>\n",
       "      <td>722000.0</td>\n",
       "      <td>krw</td>\n",
       "      <td>1700033403</td>\n",
       "    </tr>\n",
       "    <tr>\n",
       "      <th>1</th>\n",
       "      <td>2023-11-15</td>\n",
       "      <td>005930 KS</td>\n",
       "      <td>buy</td>\n",
       "      <td>72200.0</td>\n",
       "      <td>5</td>\n",
       "      <td>361000.0</td>\n",
       "      <td>krw</td>\n",
       "      <td>1700033405</td>\n",
       "    </tr>\n",
       "  </tbody>\n",
       "</table>\n",
       "</div>"
      ],
      "text/plain": [
       "              date     ticker action    price   n  price_total currency  \\\n",
       "row_id                                                                    \n",
       "0       2023-11-15  005930 KS    buy  72200.0  10     722000.0      krw   \n",
       "1       2023-11-15  005930 KS    buy  72200.0   5     361000.0      krw   \n",
       "\n",
       "         timestamp  \n",
       "row_id              \n",
       "0       1700033403  \n",
       "1       1700033405  "
      ]
     },
     "execution_count": 206,
     "metadata": {},
     "output_type": "execute_result"
    }
   ],
   "source": [
    "df1"
   ]
  },
  {
   "cell_type": "code",
   "execution_count": 207,
   "id": "c0bbb0f2",
   "metadata": {},
   "outputs": [
    {
     "data": {
      "text/html": [
       "<div>\n",
       "<style scoped>\n",
       "    .dataframe tbody tr th:only-of-type {\n",
       "        vertical-align: middle;\n",
       "    }\n",
       "\n",
       "    .dataframe tbody tr th {\n",
       "        vertical-align: top;\n",
       "    }\n",
       "\n",
       "    .dataframe thead th {\n",
       "        text-align: right;\n",
       "    }\n",
       "</style>\n",
       "<table border=\"1\" class=\"dataframe\">\n",
       "  <thead>\n",
       "    <tr style=\"text-align: right;\">\n",
       "      <th></th>\n",
       "      <th>date</th>\n",
       "      <th>ticker</th>\n",
       "      <th>action</th>\n",
       "      <th>price</th>\n",
       "      <th>n</th>\n",
       "      <th>price_total</th>\n",
       "      <th>currency</th>\n",
       "      <th>timestamp</th>\n",
       "    </tr>\n",
       "    <tr>\n",
       "      <th>row_id</th>\n",
       "      <th></th>\n",
       "      <th></th>\n",
       "      <th></th>\n",
       "      <th></th>\n",
       "      <th></th>\n",
       "      <th></th>\n",
       "      <th></th>\n",
       "      <th></th>\n",
       "    </tr>\n",
       "  </thead>\n",
       "  <tbody>\n",
       "    <tr>\n",
       "      <th>0</th>\n",
       "      <td>2023-11-15</td>\n",
       "      <td>000660 KS</td>\n",
       "      <td>buy</td>\n",
       "      <td>134100.0</td>\n",
       "      <td>10</td>\n",
       "      <td>1341000.0</td>\n",
       "      <td>krw</td>\n",
       "      <td>1700033404</td>\n",
       "    </tr>\n",
       "    <tr>\n",
       "      <th>1</th>\n",
       "      <td>2023-11-15</td>\n",
       "      <td>000660 KS</td>\n",
       "      <td>buy</td>\n",
       "      <td>134100.0</td>\n",
       "      <td>5</td>\n",
       "      <td>670500.0</td>\n",
       "      <td>krw</td>\n",
       "      <td>1700033406</td>\n",
       "    </tr>\n",
       "  </tbody>\n",
       "</table>\n",
       "</div>"
      ],
      "text/plain": [
       "              date     ticker action     price   n  price_total currency  \\\n",
       "row_id                                                                     \n",
       "0       2023-11-15  000660 KS    buy  134100.0  10    1341000.0      krw   \n",
       "1       2023-11-15  000660 KS    buy  134100.0   5     670500.0      krw   \n",
       "\n",
       "         timestamp  \n",
       "row_id              \n",
       "0       1700033404  \n",
       "1       1700033406  "
      ]
     },
     "execution_count": 207,
     "metadata": {},
     "output_type": "execute_result"
    }
   ],
   "source": [
    "df2"
   ]
  },
  {
   "cell_type": "code",
   "execution_count": 208,
   "id": "f9befd2e",
   "metadata": {},
   "outputs": [
    {
     "data": {
      "text/html": [
       "<div>\n",
       "<style scoped>\n",
       "    .dataframe tbody tr th:only-of-type {\n",
       "        vertical-align: middle;\n",
       "    }\n",
       "\n",
       "    .dataframe tbody tr th {\n",
       "        vertical-align: top;\n",
       "    }\n",
       "\n",
       "    .dataframe thead th {\n",
       "        text-align: right;\n",
       "    }\n",
       "</style>\n",
       "<table border=\"1\" class=\"dataframe\">\n",
       "  <thead>\n",
       "    <tr style=\"text-align: right;\">\n",
       "      <th></th>\n",
       "      <th>date</th>\n",
       "      <th>ticker</th>\n",
       "      <th>action</th>\n",
       "      <th>price</th>\n",
       "      <th>n</th>\n",
       "      <th>price_total</th>\n",
       "      <th>currency</th>\n",
       "      <th>timestamp</th>\n",
       "    </tr>\n",
       "  </thead>\n",
       "  <tbody>\n",
       "    <tr>\n",
       "      <th>0</th>\n",
       "      <td>2023-11-15</td>\n",
       "      <td>005930 KS</td>\n",
       "      <td>buy</td>\n",
       "      <td>72200.0</td>\n",
       "      <td>10</td>\n",
       "      <td>722000.0</td>\n",
       "      <td>krw</td>\n",
       "      <td>1700033403</td>\n",
       "    </tr>\n",
       "    <tr>\n",
       "      <th>1</th>\n",
       "      <td>2023-11-15</td>\n",
       "      <td>005930 KS</td>\n",
       "      <td>buy</td>\n",
       "      <td>72200.0</td>\n",
       "      <td>5</td>\n",
       "      <td>361000.0</td>\n",
       "      <td>krw</td>\n",
       "      <td>1700033405</td>\n",
       "    </tr>\n",
       "    <tr>\n",
       "      <th>2</th>\n",
       "      <td>2023-11-15</td>\n",
       "      <td>000660 KS</td>\n",
       "      <td>buy</td>\n",
       "      <td>134100.0</td>\n",
       "      <td>10</td>\n",
       "      <td>1341000.0</td>\n",
       "      <td>krw</td>\n",
       "      <td>1700033404</td>\n",
       "    </tr>\n",
       "    <tr>\n",
       "      <th>3</th>\n",
       "      <td>2023-11-15</td>\n",
       "      <td>000660 KS</td>\n",
       "      <td>buy</td>\n",
       "      <td>134100.0</td>\n",
       "      <td>5</td>\n",
       "      <td>670500.0</td>\n",
       "      <td>krw</td>\n",
       "      <td>1700033406</td>\n",
       "    </tr>\n",
       "  </tbody>\n",
       "</table>\n",
       "</div>"
      ],
      "text/plain": [
       "         date     ticker action     price   n  price_total currency  \\\n",
       "0  2023-11-15  005930 KS    buy   72200.0  10     722000.0      krw   \n",
       "1  2023-11-15  005930 KS    buy   72200.0   5     361000.0      krw   \n",
       "2  2023-11-15  000660 KS    buy  134100.0  10    1341000.0      krw   \n",
       "3  2023-11-15  000660 KS    buy  134100.0   5     670500.0      krw   \n",
       "\n",
       "    timestamp  \n",
       "0  1700033403  \n",
       "1  1700033405  \n",
       "2  1700033404  \n",
       "3  1700033406  "
      ]
     },
     "execution_count": 208,
     "metadata": {},
     "output_type": "execute_result"
    }
   ],
   "source": [
    "df = pd.concat([df1, df2], axis=0)\n",
    "df = df.reset_index(drop=True)\n",
    "df"
   ]
  },
  {
   "cell_type": "code",
   "execution_count": 209,
   "id": "8a5041fe",
   "metadata": {},
   "outputs": [],
   "source": [
    "def drop_row_by_index(df, index):\n",
    "    df = df.drop(index=index)\n",
    "    return df"
   ]
  },
  {
   "cell_type": "code",
   "execution_count": 210,
   "id": "52b33efe",
   "metadata": {},
   "outputs": [
    {
     "data": {
      "text/html": [
       "<div>\n",
       "<style scoped>\n",
       "    .dataframe tbody tr th:only-of-type {\n",
       "        vertical-align: middle;\n",
       "    }\n",
       "\n",
       "    .dataframe tbody tr th {\n",
       "        vertical-align: top;\n",
       "    }\n",
       "\n",
       "    .dataframe thead th {\n",
       "        text-align: right;\n",
       "    }\n",
       "</style>\n",
       "<table border=\"1\" class=\"dataframe\">\n",
       "  <thead>\n",
       "    <tr style=\"text-align: right;\">\n",
       "      <th></th>\n",
       "      <th>date</th>\n",
       "      <th>ticker</th>\n",
       "      <th>action</th>\n",
       "      <th>price</th>\n",
       "      <th>n</th>\n",
       "      <th>price_total</th>\n",
       "      <th>currency</th>\n",
       "      <th>timestamp</th>\n",
       "    </tr>\n",
       "  </thead>\n",
       "  <tbody>\n",
       "    <tr>\n",
       "      <th>1</th>\n",
       "      <td>2023-11-15</td>\n",
       "      <td>005930 KS</td>\n",
       "      <td>buy</td>\n",
       "      <td>72200.0</td>\n",
       "      <td>5</td>\n",
       "      <td>361000.0</td>\n",
       "      <td>krw</td>\n",
       "      <td>1700033405</td>\n",
       "    </tr>\n",
       "    <tr>\n",
       "      <th>2</th>\n",
       "      <td>2023-11-15</td>\n",
       "      <td>000660 KS</td>\n",
       "      <td>buy</td>\n",
       "      <td>134100.0</td>\n",
       "      <td>10</td>\n",
       "      <td>1341000.0</td>\n",
       "      <td>krw</td>\n",
       "      <td>1700033404</td>\n",
       "    </tr>\n",
       "    <tr>\n",
       "      <th>3</th>\n",
       "      <td>2023-11-15</td>\n",
       "      <td>000660 KS</td>\n",
       "      <td>buy</td>\n",
       "      <td>134100.0</td>\n",
       "      <td>5</td>\n",
       "      <td>670500.0</td>\n",
       "      <td>krw</td>\n",
       "      <td>1700033406</td>\n",
       "    </tr>\n",
       "  </tbody>\n",
       "</table>\n",
       "</div>"
      ],
      "text/plain": [
       "         date     ticker action     price   n  price_total currency  \\\n",
       "1  2023-11-15  005930 KS    buy   72200.0   5     361000.0      krw   \n",
       "2  2023-11-15  000660 KS    buy  134100.0  10    1341000.0      krw   \n",
       "3  2023-11-15  000660 KS    buy  134100.0   5     670500.0      krw   \n",
       "\n",
       "    timestamp  \n",
       "1  1700033405  \n",
       "2  1700033404  \n",
       "3  1700033406  "
      ]
     },
     "execution_count": 210,
     "metadata": {},
     "output_type": "execute_result"
    }
   ],
   "source": [
    "drop_row_by_index(df, 0)"
   ]
  },
  {
   "cell_type": "code",
   "execution_count": 211,
   "id": "269104a9",
   "metadata": {},
   "outputs": [],
   "source": [
    "cj = Trade('097950 KS')\n",
    "doote = Trade('131970 KS')\n",
    "sehold = Trade('003030 KS')\n",
    "krafton = Trade('259960 KS')"
   ]
  },
  {
   "cell_type": "code",
   "execution_count": 215,
   "id": "3369911b",
   "metadata": {},
   "outputs": [
    {
     "data": {
      "text/plain": [
       "<__main__.Trade at 0x160915810>"
      ]
     },
     "execution_count": 215,
     "metadata": {},
     "output_type": "execute_result"
    }
   ],
   "source": [
    "sehold.set_date('2023-11-08').buy_manual(price_manual=188400, n_manual=300)\n",
    "krafton.set_date('2023-11-08').buy_manual(price_manual=190800, n_manual=300)"
   ]
  },
  {
   "cell_type": "code",
   "execution_count": 216,
   "id": "e0e2df91",
   "metadata": {},
   "outputs": [
    {
     "data": {
      "text/plain": [
       "{'ticker': '003030 KS', 'date': '2023-11-08', 'currency': 'krw'}"
      ]
     },
     "execution_count": 216,
     "metadata": {},
     "output_type": "execute_result"
    }
   ],
   "source": [
    "sehold.get_params()"
   ]
  },
  {
   "cell_type": "code",
   "execution_count": 217,
   "id": "84db9ed7",
   "metadata": {},
   "outputs": [
    {
     "data": {
      "text/html": [
       "<div>\n",
       "<style scoped>\n",
       "    .dataframe tbody tr th:only-of-type {\n",
       "        vertical-align: middle;\n",
       "    }\n",
       "\n",
       "    .dataframe tbody tr th {\n",
       "        vertical-align: top;\n",
       "    }\n",
       "\n",
       "    .dataframe thead th {\n",
       "        text-align: right;\n",
       "    }\n",
       "</style>\n",
       "<table border=\"1\" class=\"dataframe\">\n",
       "  <thead>\n",
       "    <tr style=\"text-align: right;\">\n",
       "      <th></th>\n",
       "      <th>date</th>\n",
       "      <th>ticker</th>\n",
       "      <th>action</th>\n",
       "      <th>price</th>\n",
       "      <th>n</th>\n",
       "      <th>price_total</th>\n",
       "      <th>currency</th>\n",
       "      <th>timestamp</th>\n",
       "    </tr>\n",
       "    <tr>\n",
       "      <th>row_id</th>\n",
       "      <th></th>\n",
       "      <th></th>\n",
       "      <th></th>\n",
       "      <th></th>\n",
       "      <th></th>\n",
       "      <th></th>\n",
       "      <th></th>\n",
       "      <th></th>\n",
       "    </tr>\n",
       "  </thead>\n",
       "  <tbody>\n",
       "    <tr>\n",
       "      <th>0</th>\n",
       "      <td>2023-11-08</td>\n",
       "      <td>003030 KS</td>\n",
       "      <td>buy</td>\n",
       "      <td>188400</td>\n",
       "      <td>300</td>\n",
       "      <td>56520000</td>\n",
       "      <td>krw</td>\n",
       "      <td>1700033411</td>\n",
       "    </tr>\n",
       "    <tr>\n",
       "      <th>1</th>\n",
       "      <td>2023-11-08</td>\n",
       "      <td>003030 KS</td>\n",
       "      <td>buy</td>\n",
       "      <td>188400</td>\n",
       "      <td>300</td>\n",
       "      <td>56520000</td>\n",
       "      <td>krw</td>\n",
       "      <td>1700033412</td>\n",
       "    </tr>\n",
       "    <tr>\n",
       "      <th>2</th>\n",
       "      <td>2023-11-08</td>\n",
       "      <td>003030 KS</td>\n",
       "      <td>buy</td>\n",
       "      <td>188400</td>\n",
       "      <td>300</td>\n",
       "      <td>56520000</td>\n",
       "      <td>krw</td>\n",
       "      <td>1700033413</td>\n",
       "    </tr>\n",
       "    <tr>\n",
       "      <th>3</th>\n",
       "      <td>2023-11-08</td>\n",
       "      <td>003030 KS</td>\n",
       "      <td>buy</td>\n",
       "      <td>188400</td>\n",
       "      <td>300</td>\n",
       "      <td>56520000</td>\n",
       "      <td>krw</td>\n",
       "      <td>1700033413</td>\n",
       "    </tr>\n",
       "  </tbody>\n",
       "</table>\n",
       "</div>"
      ],
      "text/plain": [
       "              date     ticker action   price    n  price_total currency  \\\n",
       "row_id                                                                    \n",
       "0       2023-11-08  003030 KS    buy  188400  300     56520000      krw   \n",
       "1       2023-11-08  003030 KS    buy  188400  300     56520000      krw   \n",
       "2       2023-11-08  003030 KS    buy  188400  300     56520000      krw   \n",
       "3       2023-11-08  003030 KS    buy  188400  300     56520000      krw   \n",
       "\n",
       "         timestamp  \n",
       "row_id              \n",
       "0       1700033411  \n",
       "1       1700033412  \n",
       "2       1700033413  \n",
       "3       1700033413  "
      ]
     },
     "execution_count": 217,
     "metadata": {},
     "output_type": "execute_result"
    }
   ],
   "source": [
    "sehold.get_df()"
   ]
  },
  {
   "cell_type": "code",
   "execution_count": 218,
   "id": "8e6657f5",
   "metadata": {},
   "outputs": [
    {
     "data": {
      "text/html": [
       "<div>\n",
       "<style scoped>\n",
       "    .dataframe tbody tr th:only-of-type {\n",
       "        vertical-align: middle;\n",
       "    }\n",
       "\n",
       "    .dataframe tbody tr th {\n",
       "        vertical-align: top;\n",
       "    }\n",
       "\n",
       "    .dataframe thead th {\n",
       "        text-align: right;\n",
       "    }\n",
       "</style>\n",
       "<table border=\"1\" class=\"dataframe\">\n",
       "  <thead>\n",
       "    <tr style=\"text-align: right;\">\n",
       "      <th></th>\n",
       "      <th>date</th>\n",
       "      <th>ticker</th>\n",
       "      <th>action</th>\n",
       "      <th>price</th>\n",
       "      <th>n</th>\n",
       "      <th>price_total</th>\n",
       "      <th>currency</th>\n",
       "      <th>timestamp</th>\n",
       "    </tr>\n",
       "    <tr>\n",
       "      <th>row_id</th>\n",
       "      <th></th>\n",
       "      <th></th>\n",
       "      <th></th>\n",
       "      <th></th>\n",
       "      <th></th>\n",
       "      <th></th>\n",
       "      <th></th>\n",
       "      <th></th>\n",
       "    </tr>\n",
       "  </thead>\n",
       "  <tbody>\n",
       "    <tr>\n",
       "      <th>0</th>\n",
       "      <td>2023-11-08</td>\n",
       "      <td>259960 KS</td>\n",
       "      <td>buy</td>\n",
       "      <td>190800</td>\n",
       "      <td>300</td>\n",
       "      <td>57240000</td>\n",
       "      <td>krw</td>\n",
       "      <td>1700033411</td>\n",
       "    </tr>\n",
       "    <tr>\n",
       "      <th>1</th>\n",
       "      <td>2023-11-08</td>\n",
       "      <td>259960 KS</td>\n",
       "      <td>buy</td>\n",
       "      <td>190800</td>\n",
       "      <td>300</td>\n",
       "      <td>57240000</td>\n",
       "      <td>krw</td>\n",
       "      <td>1700033412</td>\n",
       "    </tr>\n",
       "    <tr>\n",
       "      <th>2</th>\n",
       "      <td>2023-11-08</td>\n",
       "      <td>259960 KS</td>\n",
       "      <td>buy</td>\n",
       "      <td>190800</td>\n",
       "      <td>300</td>\n",
       "      <td>57240000</td>\n",
       "      <td>krw</td>\n",
       "      <td>1700033413</td>\n",
       "    </tr>\n",
       "    <tr>\n",
       "      <th>3</th>\n",
       "      <td>2023-11-08</td>\n",
       "      <td>259960 KS</td>\n",
       "      <td>buy</td>\n",
       "      <td>190800</td>\n",
       "      <td>300</td>\n",
       "      <td>57240000</td>\n",
       "      <td>krw</td>\n",
       "      <td>1700033413</td>\n",
       "    </tr>\n",
       "  </tbody>\n",
       "</table>\n",
       "</div>"
      ],
      "text/plain": [
       "              date     ticker action   price    n  price_total currency  \\\n",
       "row_id                                                                    \n",
       "0       2023-11-08  259960 KS    buy  190800  300     57240000      krw   \n",
       "1       2023-11-08  259960 KS    buy  190800  300     57240000      krw   \n",
       "2       2023-11-08  259960 KS    buy  190800  300     57240000      krw   \n",
       "3       2023-11-08  259960 KS    buy  190800  300     57240000      krw   \n",
       "\n",
       "         timestamp  \n",
       "row_id              \n",
       "0       1700033411  \n",
       "1       1700033412  \n",
       "2       1700033413  \n",
       "3       1700033413  "
      ]
     },
     "execution_count": 218,
     "metadata": {},
     "output_type": "execute_result"
    }
   ],
   "source": [
    "krafton.get_df()"
   ]
  },
  {
   "cell_type": "code",
   "execution_count": 219,
   "id": "8274c6d9",
   "metadata": {},
   "outputs": [],
   "source": [
    "trades = [sehold, krafton]"
   ]
  },
  {
   "cell_type": "code",
   "execution_count": 220,
   "id": "9a012ecd",
   "metadata": {},
   "outputs": [
    {
     "data": {
      "text/html": [
       "<div>\n",
       "<style scoped>\n",
       "    .dataframe tbody tr th:only-of-type {\n",
       "        vertical-align: middle;\n",
       "    }\n",
       "\n",
       "    .dataframe tbody tr th {\n",
       "        vertical-align: top;\n",
       "    }\n",
       "\n",
       "    .dataframe thead th {\n",
       "        text-align: right;\n",
       "    }\n",
       "</style>\n",
       "<table border=\"1\" class=\"dataframe\">\n",
       "  <thead>\n",
       "    <tr style=\"text-align: right;\">\n",
       "      <th></th>\n",
       "      <th>account</th>\n",
       "      <th>date</th>\n",
       "      <th>ticker</th>\n",
       "      <th>action</th>\n",
       "      <th>price</th>\n",
       "      <th>n</th>\n",
       "      <th>price_total</th>\n",
       "      <th>currency</th>\n",
       "      <th>timestamp</th>\n",
       "    </tr>\n",
       "  </thead>\n",
       "  <tbody>\n",
       "    <tr>\n",
       "      <th>0</th>\n",
       "      <td>test</td>\n",
       "      <td>2023-11-08</td>\n",
       "      <td>003030 KS</td>\n",
       "      <td>buy</td>\n",
       "      <td>188400</td>\n",
       "      <td>300</td>\n",
       "      <td>56520000</td>\n",
       "      <td>krw</td>\n",
       "      <td>1700033411</td>\n",
       "    </tr>\n",
       "    <tr>\n",
       "      <th>1</th>\n",
       "      <td>test</td>\n",
       "      <td>2023-11-08</td>\n",
       "      <td>003030 KS</td>\n",
       "      <td>buy</td>\n",
       "      <td>188400</td>\n",
       "      <td>300</td>\n",
       "      <td>56520000</td>\n",
       "      <td>krw</td>\n",
       "      <td>1700033412</td>\n",
       "    </tr>\n",
       "    <tr>\n",
       "      <th>2</th>\n",
       "      <td>test</td>\n",
       "      <td>2023-11-08</td>\n",
       "      <td>003030 KS</td>\n",
       "      <td>buy</td>\n",
       "      <td>188400</td>\n",
       "      <td>300</td>\n",
       "      <td>56520000</td>\n",
       "      <td>krw</td>\n",
       "      <td>1700033413</td>\n",
       "    </tr>\n",
       "    <tr>\n",
       "      <th>3</th>\n",
       "      <td>test</td>\n",
       "      <td>2023-11-08</td>\n",
       "      <td>003030 KS</td>\n",
       "      <td>buy</td>\n",
       "      <td>188400</td>\n",
       "      <td>300</td>\n",
       "      <td>56520000</td>\n",
       "      <td>krw</td>\n",
       "      <td>1700033413</td>\n",
       "    </tr>\n",
       "    <tr>\n",
       "      <th>4</th>\n",
       "      <td>test</td>\n",
       "      <td>2023-11-08</td>\n",
       "      <td>259960 KS</td>\n",
       "      <td>buy</td>\n",
       "      <td>190800</td>\n",
       "      <td>300</td>\n",
       "      <td>57240000</td>\n",
       "      <td>krw</td>\n",
       "      <td>1700033411</td>\n",
       "    </tr>\n",
       "    <tr>\n",
       "      <th>5</th>\n",
       "      <td>test</td>\n",
       "      <td>2023-11-08</td>\n",
       "      <td>259960 KS</td>\n",
       "      <td>buy</td>\n",
       "      <td>190800</td>\n",
       "      <td>300</td>\n",
       "      <td>57240000</td>\n",
       "      <td>krw</td>\n",
       "      <td>1700033412</td>\n",
       "    </tr>\n",
       "    <tr>\n",
       "      <th>6</th>\n",
       "      <td>test</td>\n",
       "      <td>2023-11-08</td>\n",
       "      <td>259960 KS</td>\n",
       "      <td>buy</td>\n",
       "      <td>190800</td>\n",
       "      <td>300</td>\n",
       "      <td>57240000</td>\n",
       "      <td>krw</td>\n",
       "      <td>1700033413</td>\n",
       "    </tr>\n",
       "    <tr>\n",
       "      <th>7</th>\n",
       "      <td>test</td>\n",
       "      <td>2023-11-08</td>\n",
       "      <td>259960 KS</td>\n",
       "      <td>buy</td>\n",
       "      <td>190800</td>\n",
       "      <td>300</td>\n",
       "      <td>57240000</td>\n",
       "      <td>krw</td>\n",
       "      <td>1700033413</td>\n",
       "    </tr>\n",
       "  </tbody>\n",
       "</table>\n",
       "</div>"
      ],
      "text/plain": [
       "  account        date     ticker action   price    n  price_total currency  \\\n",
       "0    test  2023-11-08  003030 KS    buy  188400  300     56520000      krw   \n",
       "1    test  2023-11-08  003030 KS    buy  188400  300     56520000      krw   \n",
       "2    test  2023-11-08  003030 KS    buy  188400  300     56520000      krw   \n",
       "3    test  2023-11-08  003030 KS    buy  188400  300     56520000      krw   \n",
       "4    test  2023-11-08  259960 KS    buy  190800  300     57240000      krw   \n",
       "5    test  2023-11-08  259960 KS    buy  190800  300     57240000      krw   \n",
       "6    test  2023-11-08  259960 KS    buy  190800  300     57240000      krw   \n",
       "7    test  2023-11-08  259960 KS    buy  190800  300     57240000      krw   \n",
       "\n",
       "    timestamp  \n",
       "0  1700033411  \n",
       "1  1700033412  \n",
       "2  1700033413  \n",
       "3  1700033413  \n",
       "4  1700033411  \n",
       "5  1700033412  \n",
       "6  1700033413  \n",
       "7  1700033413  "
      ]
     },
     "execution_count": 220,
     "metadata": {},
     "output_type": "execute_result"
    }
   ],
   "source": [
    "df = Wrap(trades=trades).get_df()\n",
    "df"
   ]
  },
  {
   "cell_type": "code",
   "execution_count": 221,
   "id": "7f060145",
   "metadata": {},
   "outputs": [],
   "source": [
    "df_summary = Wrap(trades=trades).get_df_summary()"
   ]
  },
  {
   "cell_type": "code",
   "execution_count": 222,
   "id": "2c1dd4dd",
   "metadata": {},
   "outputs": [
    {
     "data": {
      "text/html": [
       "<div>\n",
       "<style scoped>\n",
       "    .dataframe tbody tr th:only-of-type {\n",
       "        vertical-align: middle;\n",
       "    }\n",
       "\n",
       "    .dataframe tbody tr th {\n",
       "        vertical-align: top;\n",
       "    }\n",
       "\n",
       "    .dataframe thead th {\n",
       "        text-align: right;\n",
       "    }\n",
       "</style>\n",
       "<table border=\"1\" class=\"dataframe\">\n",
       "  <thead>\n",
       "    <tr style=\"text-align: right;\">\n",
       "      <th></th>\n",
       "      <th>account</th>\n",
       "      <th>date</th>\n",
       "      <th>ticker</th>\n",
       "      <th>currency</th>\n",
       "      <th>price_total</th>\n",
       "      <th>weight</th>\n",
       "    </tr>\n",
       "  </thead>\n",
       "  <tbody>\n",
       "    <tr>\n",
       "      <th>0</th>\n",
       "      <td>test</td>\n",
       "      <td>2023-11-08</td>\n",
       "      <td>003030 KS</td>\n",
       "      <td>krw</td>\n",
       "      <td>226080000</td>\n",
       "      <td>0.496835</td>\n",
       "    </tr>\n",
       "    <tr>\n",
       "      <th>1</th>\n",
       "      <td>test</td>\n",
       "      <td>2023-11-08</td>\n",
       "      <td>259960 KS</td>\n",
       "      <td>krw</td>\n",
       "      <td>228960000</td>\n",
       "      <td>0.503165</td>\n",
       "    </tr>\n",
       "  </tbody>\n",
       "</table>\n",
       "</div>"
      ],
      "text/plain": [
       "  account        date     ticker currency  price_total    weight\n",
       "0    test  2023-11-08  003030 KS      krw    226080000  0.496835\n",
       "1    test  2023-11-08  259960 KS      krw    228960000  0.503165"
      ]
     },
     "execution_count": 222,
     "metadata": {},
     "output_type": "execute_result"
    }
   ],
   "source": [
    "df_summary"
   ]
  },
  {
   "cell_type": "code",
   "execution_count": 224,
   "id": "95a0c221",
   "metadata": {},
   "outputs": [
    {
     "data": {
      "text/html": [
       "<div>\n",
       "<style scoped>\n",
       "    .dataframe tbody tr th:only-of-type {\n",
       "        vertical-align: middle;\n",
       "    }\n",
       "\n",
       "    .dataframe tbody tr th {\n",
       "        vertical-align: top;\n",
       "    }\n",
       "\n",
       "    .dataframe thead th {\n",
       "        text-align: right;\n",
       "    }\n",
       "</style>\n",
       "<table border=\"1\" class=\"dataframe\">\n",
       "  <thead>\n",
       "    <tr style=\"text-align: right;\">\n",
       "      <th></th>\n",
       "      <th>account</th>\n",
       "      <th>date</th>\n",
       "      <th>currency</th>\n",
       "      <th>price_total</th>\n",
       "    </tr>\n",
       "  </thead>\n",
       "  <tbody>\n",
       "    <tr>\n",
       "      <th>0</th>\n",
       "      <td>test</td>\n",
       "      <td>2023-11-08</td>\n",
       "      <td>krw</td>\n",
       "      <td>455040000</td>\n",
       "    </tr>\n",
       "  </tbody>\n",
       "</table>\n",
       "</div>"
      ],
      "text/plain": [
       "  account        date currency  price_total\n",
       "0    test  2023-11-08      krw    455040000"
      ]
     },
     "execution_count": 224,
     "metadata": {},
     "output_type": "execute_result"
    }
   ],
   "source": [
    "df_summary.groupby(['account', 'date', 'currency'], as_index=False)['price_total'].sum()"
   ]
  },
  {
   "cell_type": "code",
   "execution_count": 244,
   "id": "56f282f2",
   "metadata": {},
   "outputs": [],
   "source": [
    "wrap_mirae = Wrap(trades=[], account='mirae')"
   ]
  },
  {
   "cell_type": "code",
   "execution_count": 245,
   "id": "2536d83e",
   "metadata": {},
   "outputs": [
    {
     "data": {
      "text/plain": [
       "{'account': 'mirae', 'trades': []}"
      ]
     },
     "execution_count": 245,
     "metadata": {},
     "output_type": "execute_result"
    }
   ],
   "source": [
    "wrap_mirae.params"
   ]
  },
  {
   "cell_type": "code",
   "execution_count": 246,
   "id": "a76a00ac",
   "metadata": {},
   "outputs": [],
   "source": [
    "cj = Trade('097950 KS')\n",
    "doote = Trade('131970 KS')\n",
    "sehold = Trade('003030 KS')\n",
    "krafton = Trade('259960 KS')"
   ]
  },
  {
   "cell_type": "code",
   "execution_count": 247,
   "id": "3a7a6ac8",
   "metadata": {},
   "outputs": [
    {
     "ename": "JSONDecodeError",
     "evalue": "Expecting value: line 1 column 1 (char 0)",
     "output_type": "error",
     "traceback": [
      "\u001b[0;31m---------------------------------------------------------------------------\u001b[0m",
      "\u001b[0;31mJSONDecodeError\u001b[0m                           Traceback (most recent call last)",
      "File \u001b[0;32m~/anaconda3/lib/python3.11/site-packages/requests/models.py:971\u001b[0m, in \u001b[0;36mResponse.json\u001b[0;34m(self, **kwargs)\u001b[0m\n\u001b[1;32m    970\u001b[0m \u001b[39mtry\u001b[39;00m:\n\u001b[0;32m--> 971\u001b[0m     \u001b[39mreturn\u001b[39;00m complexjson\u001b[39m.\u001b[39mloads(\u001b[39mself\u001b[39m\u001b[39m.\u001b[39mtext, \u001b[39m*\u001b[39m\u001b[39m*\u001b[39mkwargs)\n\u001b[1;32m    972\u001b[0m \u001b[39mexcept\u001b[39;00m JSONDecodeError \u001b[39mas\u001b[39;00m e:\n\u001b[1;32m    973\u001b[0m     \u001b[39m# Catch JSON-related errors and raise as requests.JSONDecodeError\u001b[39;00m\n\u001b[1;32m    974\u001b[0m     \u001b[39m# This aliases json.JSONDecodeError and simplejson.JSONDecodeError\u001b[39;00m\n",
      "File \u001b[0;32m~/anaconda3/lib/python3.11/json/__init__.py:346\u001b[0m, in \u001b[0;36mloads\u001b[0;34m(s, cls, object_hook, parse_float, parse_int, parse_constant, object_pairs_hook, **kw)\u001b[0m\n\u001b[1;32m    343\u001b[0m \u001b[39mif\u001b[39;00m (\u001b[39mcls\u001b[39m \u001b[39mis\u001b[39;00m \u001b[39mNone\u001b[39;00m \u001b[39mand\u001b[39;00m object_hook \u001b[39mis\u001b[39;00m \u001b[39mNone\u001b[39;00m \u001b[39mand\u001b[39;00m\n\u001b[1;32m    344\u001b[0m         parse_int \u001b[39mis\u001b[39;00m \u001b[39mNone\u001b[39;00m \u001b[39mand\u001b[39;00m parse_float \u001b[39mis\u001b[39;00m \u001b[39mNone\u001b[39;00m \u001b[39mand\u001b[39;00m\n\u001b[1;32m    345\u001b[0m         parse_constant \u001b[39mis\u001b[39;00m \u001b[39mNone\u001b[39;00m \u001b[39mand\u001b[39;00m object_pairs_hook \u001b[39mis\u001b[39;00m \u001b[39mNone\u001b[39;00m \u001b[39mand\u001b[39;00m \u001b[39mnot\u001b[39;00m kw):\n\u001b[0;32m--> 346\u001b[0m     \u001b[39mreturn\u001b[39;00m _default_decoder\u001b[39m.\u001b[39mdecode(s)\n\u001b[1;32m    347\u001b[0m \u001b[39mif\u001b[39;00m \u001b[39mcls\u001b[39m \u001b[39mis\u001b[39;00m \u001b[39mNone\u001b[39;00m:\n",
      "File \u001b[0;32m~/anaconda3/lib/python3.11/json/decoder.py:337\u001b[0m, in \u001b[0;36mJSONDecoder.decode\u001b[0;34m(self, s, _w)\u001b[0m\n\u001b[1;32m    333\u001b[0m \u001b[39m\u001b[39m\u001b[39m\"\"\"Return the Python representation of ``s`` (a ``str`` instance\u001b[39;00m\n\u001b[1;32m    334\u001b[0m \u001b[39mcontaining a JSON document).\u001b[39;00m\n\u001b[1;32m    335\u001b[0m \n\u001b[1;32m    336\u001b[0m \u001b[39m\"\"\"\u001b[39;00m\n\u001b[0;32m--> 337\u001b[0m obj, end \u001b[39m=\u001b[39m \u001b[39mself\u001b[39m\u001b[39m.\u001b[39mraw_decode(s, idx\u001b[39m=\u001b[39m_w(s, \u001b[39m0\u001b[39m)\u001b[39m.\u001b[39mend())\n\u001b[1;32m    338\u001b[0m end \u001b[39m=\u001b[39m _w(s, end)\u001b[39m.\u001b[39mend()\n",
      "File \u001b[0;32m~/anaconda3/lib/python3.11/json/decoder.py:355\u001b[0m, in \u001b[0;36mJSONDecoder.raw_decode\u001b[0;34m(self, s, idx)\u001b[0m\n\u001b[1;32m    354\u001b[0m \u001b[39mexcept\u001b[39;00m \u001b[39mStopIteration\u001b[39;00m \u001b[39mas\u001b[39;00m err:\n\u001b[0;32m--> 355\u001b[0m     \u001b[39mraise\u001b[39;00m JSONDecodeError(\u001b[39m\"\u001b[39m\u001b[39mExpecting value\u001b[39m\u001b[39m\"\u001b[39m, s, err\u001b[39m.\u001b[39mvalue) \u001b[39mfrom\u001b[39;00m \u001b[39mNone\u001b[39;00m\n\u001b[1;32m    356\u001b[0m \u001b[39mreturn\u001b[39;00m obj, end\n",
      "\u001b[0;31mJSONDecodeError\u001b[0m: Expecting value: line 1 column 1 (char 0)",
      "\nDuring handling of the above exception, another exception occurred:\n",
      "\u001b[0;31mJSONDecodeError\u001b[0m                           Traceback (most recent call last)",
      "\u001b[1;32m/Users/juneyoungpark/dev/rpa-wrap/rpa-wrap.ipynb Cell 52\u001b[0m line \u001b[0;36m1\n\u001b[0;32m----> <a href='vscode-notebook-cell:/Users/juneyoungpark/dev/rpa-wrap/rpa-wrap.ipynb#Y103sZmlsZQ%3D%3D?line=0'>1</a>\u001b[0m cj\u001b[39m.\u001b[39mset_date(\u001b[39m'\u001b[39m\u001b[39m2023-11-08\u001b[39m\u001b[39m'\u001b[39m)\u001b[39m.\u001b[39mbuy_date(n_date\u001b[39m=\u001b[39m\u001b[39m300\u001b[39m)\n",
      "\u001b[1;32m/Users/juneyoungpark/dev/rpa-wrap/rpa-wrap.ipynb Cell 52\u001b[0m line \u001b[0;36m1\n\u001b[1;32m    <a href='vscode-notebook-cell:/Users/juneyoungpark/dev/rpa-wrap/rpa-wrap.ipynb#Y103sZmlsZQ%3D%3D?line=129'>130</a>\u001b[0m date \u001b[39m=\u001b[39m date \u001b[39mor\u001b[39;00m \u001b[39mself\u001b[39m\u001b[39m.\u001b[39mdate\n\u001b[1;32m    <a href='vscode-notebook-cell:/Users/juneyoungpark/dev/rpa-wrap/rpa-wrap.ipynb#Y103sZmlsZQ%3D%3D?line=130'>131</a>\u001b[0m action \u001b[39m=\u001b[39m \u001b[39m'\u001b[39m\u001b[39mbuy\u001b[39m\u001b[39m'\u001b[39m\n\u001b[0;32m--> <a href='vscode-notebook-cell:/Users/juneyoungpark/dev/rpa-wrap/rpa-wrap.ipynb#Y103sZmlsZQ%3D%3D?line=131'>132</a>\u001b[0m price_date \u001b[39m=\u001b[39m get_date_price(\u001b[39mself\u001b[39m\u001b[39m.\u001b[39mticker, date)\n\u001b[1;32m    <a href='vscode-notebook-cell:/Users/juneyoungpark/dev/rpa-wrap/rpa-wrap.ipynb#Y103sZmlsZQ%3D%3D?line=132'>133</a>\u001b[0m buy_price \u001b[39m=\u001b[39m price_date\n\u001b[1;32m    <a href='vscode-notebook-cell:/Users/juneyoungpark/dev/rpa-wrap/rpa-wrap.ipynb#Y103sZmlsZQ%3D%3D?line=133'>134</a>\u001b[0m n \u001b[39m=\u001b[39m n_date\n",
      "\u001b[1;32m/Users/juneyoungpark/dev/rpa-wrap/rpa-wrap.ipynb Cell 52\u001b[0m line \u001b[0;36m2\n\u001b[1;32m    <a href='vscode-notebook-cell:/Users/juneyoungpark/dev/rpa-wrap/rpa-wrap.ipynb#Y103sZmlsZQ%3D%3D?line=260'>261</a>\u001b[0m query \u001b[39m=\u001b[39m {\n\u001b[1;32m    <a href='vscode-notebook-cell:/Users/juneyoungpark/dev/rpa-wrap/rpa-wrap.ipynb#Y103sZmlsZQ%3D%3D?line=261'>262</a>\u001b[0m \u001b[39m\"\u001b[39m\u001b[39maction\u001b[39m\u001b[39m\"\u001b[39m: \u001b[39m\"\u001b[39m\u001b[39mbdh\u001b[39m\u001b[39m\"\u001b[39m,\n\u001b[1;32m    <a href='vscode-notebook-cell:/Users/juneyoungpark/dev/rpa-wrap/rpa-wrap.ipynb#Y103sZmlsZQ%3D%3D?line=262'>263</a>\u001b[0m \u001b[39m\"\u001b[39m\u001b[39msecurities\u001b[39m\u001b[39m\"\u001b[39m: [ticker_input],\n\u001b[0;32m   (...)\u001b[0m\n\u001b[1;32m    <a href='vscode-notebook-cell:/Users/juneyoungpark/dev/rpa-wrap/rpa-wrap.ipynb#Y103sZmlsZQ%3D%3D?line=266'>267</a>\u001b[0m \u001b[39m\"\u001b[39m\u001b[39mperiod\u001b[39m\u001b[39m\"\u001b[39m: \u001b[39m\"\u001b[39m\u001b[39mDAILY\u001b[39m\u001b[39m\"\u001b[39m\n\u001b[1;32m    <a href='vscode-notebook-cell:/Users/juneyoungpark/dev/rpa-wrap/rpa-wrap.ipynb#Y103sZmlsZQ%3D%3D?line=267'>268</a>\u001b[0m }\n\u001b[1;32m    <a href='vscode-notebook-cell:/Users/juneyoungpark/dev/rpa-wrap/rpa-wrap.ipynb#Y103sZmlsZQ%3D%3D?line=268'>269</a>\u001b[0m response \u001b[39m=\u001b[39m requests\u001b[39m.\u001b[39mpost(API_ENDPOINT, json\u001b[39m=\u001b[39mquery)  \n\u001b[0;32m--> <a href='vscode-notebook-cell:/Users/juneyoungpark/dev/rpa-wrap/rpa-wrap.ipynb#Y103sZmlsZQ%3D%3D?line=269'>270</a>\u001b[0m price \u001b[39m=\u001b[39m response\u001b[39m.\u001b[39mjson()[\u001b[39m'\u001b[39m\u001b[39mPX_LAST\u001b[39m\u001b[39m'\u001b[39m][ticker_input]\n\u001b[1;32m    <a href='vscode-notebook-cell:/Users/juneyoungpark/dev/rpa-wrap/rpa-wrap.ipynb#Y103sZmlsZQ%3D%3D?line=270'>271</a>\u001b[0m \u001b[39mreturn\u001b[39;00m price\n",
      "File \u001b[0;32m~/anaconda3/lib/python3.11/site-packages/requests/models.py:975\u001b[0m, in \u001b[0;36mResponse.json\u001b[0;34m(self, **kwargs)\u001b[0m\n\u001b[1;32m    971\u001b[0m     \u001b[39mreturn\u001b[39;00m complexjson\u001b[39m.\u001b[39mloads(\u001b[39mself\u001b[39m\u001b[39m.\u001b[39mtext, \u001b[39m*\u001b[39m\u001b[39m*\u001b[39mkwargs)\n\u001b[1;32m    972\u001b[0m \u001b[39mexcept\u001b[39;00m JSONDecodeError \u001b[39mas\u001b[39;00m e:\n\u001b[1;32m    973\u001b[0m     \u001b[39m# Catch JSON-related errors and raise as requests.JSONDecodeError\u001b[39;00m\n\u001b[1;32m    974\u001b[0m     \u001b[39m# This aliases json.JSONDecodeError and simplejson.JSONDecodeError\u001b[39;00m\n\u001b[0;32m--> 975\u001b[0m     \u001b[39mraise\u001b[39;00m RequestsJSONDecodeError(e\u001b[39m.\u001b[39mmsg, e\u001b[39m.\u001b[39mdoc, e\u001b[39m.\u001b[39mpos)\n",
      "\u001b[0;31mJSONDecodeError\u001b[0m: Expecting value: line 1 column 1 (char 0)"
     ]
    }
   ],
   "source": [
    "cj.set_date('2023-11-08').buy_date(n_date=300)"
   ]
  },
  {
   "cell_type": "code",
   "execution_count": null,
   "id": "9906caf2",
   "metadata": {},
   "outputs": [],
   "source": []
  }
 ],
 "metadata": {
  "kernelspec": {
   "display_name": "Python 3 (ipykernel)",
   "language": "python",
   "name": "python3"
  },
  "language_info": {
   "codemirror_mode": {
    "name": "ipython",
    "version": 3
   },
   "file_extension": ".py",
   "mimetype": "text/x-python",
   "name": "python",
   "nbconvert_exporter": "python",
   "pygments_lexer": "ipython3",
   "version": "3.11.3"
  }
 },
 "nbformat": 4,
 "nbformat_minor": 5
}
